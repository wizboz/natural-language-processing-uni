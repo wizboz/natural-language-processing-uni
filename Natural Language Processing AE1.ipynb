{
  "nbformat": 4,
  "nbformat_minor": 0,
  "metadata": {
    "colab": {
      "provenance": []
    },
    "kernelspec": {
      "name": "python3",
      "display_name": "Python 3"
    },
    "language_info": {
      "name": "python"
    }
  },
  "cells": [
    {
      "cell_type": "markdown",
      "source": [
        "# Natural Language Processing with Deep Learning AE1"
      ],
      "metadata": {
        "id": "wyYpZX2pKELK"
      }
    },
    {
      "cell_type": "code",
      "source": [
        "import nltk\n",
        "nltk.download(\"punkt\")\n",
        "nltk.download('wordnet')\n",
        "nltk.download('treebank')"
      ],
      "metadata": {
        "colab": {
          "base_uri": "https://localhost:8080/"
        },
        "id": "kDDmxTo5Dw2u",
        "outputId": "9e68ce47-ec6c-46c1-dfe4-1c5322d7e0de"
      },
      "execution_count": 1,
      "outputs": [
        {
          "output_type": "stream",
          "name": "stderr",
          "text": [
            "[nltk_data] Downloading package punkt to /root/nltk_data...\n",
            "[nltk_data]   Unzipping tokenizers/punkt.zip.\n",
            "[nltk_data] Downloading package wordnet to /root/nltk_data...\n",
            "[nltk_data] Downloading package treebank to /root/nltk_data...\n",
            "[nltk_data]   Unzipping corpora/treebank.zip.\n"
          ]
        },
        {
          "output_type": "execute_result",
          "data": {
            "text/plain": [
              "True"
            ]
          },
          "metadata": {},
          "execution_count": 1
        }
      ]
    },
    {
      "cell_type": "code",
      "source": [
        "import pandas as pd\n",
        "from nltk.tokenize import word_tokenize\n",
        "from nltk.stem import PorterStemmer, WordNetLemmatizer\n",
        "from nltk.corpus import treebank\n",
        "from nltk.probability import FreqDist\n",
        "from nltk.lm.models import MLE, Laplace\n",
        "from nltk.lm.preprocessing import padded_everygram_pipeline\n",
        "from nltk import MLEProbDist\n",
        "from gensim.models import Word2Vec\n",
        "from gensim.models.phrases import Phraser, Phrases\n",
        "from matplotlib import pyplot as plt\n",
        "import pylab\n",
        "import re\n",
        "import string\n",
        "import itertools"
      ],
      "metadata": {
        "id": "bJvCnwEh73PN"
      },
      "execution_count": 2,
      "outputs": []
    },
    {
      "cell_type": "markdown",
      "source": [
        "## General Questions"
      ],
      "metadata": {
        "id": "Mago8vWGK9aq"
      }
    },
    {
      "cell_type": "markdown",
      "source": [
        "#### 1. Give examples of Natural Language processing systems and describe the main functions of an NLP application."
      ],
      "metadata": {
        "id": "QUmgTPnbKSEp"
      }
    },
    {
      "cell_type": "markdown",
      "source": [
        "Natural Language Processing is a field of computer science or computational linguistics that focuses the algorithmic manipulation of natural language via computers (Bird, Klien and Loper, 2009). Computers do not operate in natural language, instead computers use machine code to interpret instructions. Machine code is a binary numerical language, consisting of 1s and 0s. When we write computer programs we must use a high-level language such as Python or Java to write source code which can be compiled and translated to machine code. Similarly, natural language processing (NLP) works to interpret human language in a way that computers, who only operate in machine language, can comprehend. \n",
        "The aim of NLP is to manipulate natural language using high-level programming languages that can be understood by computers, so that human language can be more effectively intergrated into certain technologies and applications. \n",
        "\n",
        "NLP applications are commonplace today being used in search engines, all kinds of text analysis such as style or summarisations,as well as being vital in human-computer interaction.  Common NLP fields are question answering and information extraction, chatbots and dialogue systems, automatic speech recognition/text to speech and machine translation (Jurafsky and Martin, 2023). \n",
        "\n",
        "NLP allows us to automatically analyse or classify texts according to sentiment, topic etc, which can be useful for marketing purposes as well as gathering information. Furthermore, question answer and information extraction are important tasks that enable computers to retrieve information. Information extraction can be achieved through mining of web data or by performing a reading comprehension on raw texts. These algorithms are able to identify patterns and keywords in the data. A prominent benefactor of these systems are search engines which collect and rank documents in order to show the most relevant results to a natural language query (Jurafsky and Martin, 2023). However, question answering, especially long form question answering, is also incorporated into conversational agents (Jurafsky and Martin, 2023). \n",
        "\n",
        "Following from this, within the field of human-computer interaction NLP is commonly used in dialogue systems. This usually takes the form of task-based personal assistants, such as 'Siri' or 'Alexa', that can perform tasks via written or, more often, spoken language. There are numerous sub-applications of NLP concerning speech - text-to-speech software can be used by those who cannot speak themselves or wish to automatically generate a voice that is not their own, transcribing software can assist with human dictation and speech detection can be used to extract information from audio - to name a few examples. Chatbots are also a popular use of NLP. These chatbots are trained to be able to respond and generate relevant (and informed) natural language. These applications began using rule-based methods, eg. *ELIZA*, but the field is now dominated by neural networks and transformer based models, eg. *ChatGPT* (Jurafsky and Martin, 2023). \n",
        "\n",
        "Finally, machine translation involves using computers to translate one language to another, such as the methods used by popular applications like *Google Translate*. It is often used whilst browsing web data but also can be a helpful tool for human translators (Jurafsky and Martin, 2023). It most often functions by using an encoder-decoder network trained on already translated data in both languages, which is able to map an input sequence and its contextual information to an output sequence. These sequence-to-sequence based models excel at modelling the complex lingustical variations between the same sequence in two languages (Jurafsky and Martin, 2023). Machine translation can also be helpful in question answering as natural language queries can also be translated to a high-order logical representations and used to index a vast database of knowledge for knowledge retrieval (Jurafsky and Martin, 2023).\n",
        "\n",
        "Overall NLP enables computers to interpret human natural language. Since, computers play a major role in our everyday lives, natural language processing systems are essential to operate freely in an increasingly technological world.\n"
      ],
      "metadata": {
        "id": "f3o0qGlAKdh_"
      }
    },
    {
      "cell_type": "markdown",
      "source": [
        "#### 2. What do we mean by ambiguity in natural language? Give examples of this and explain why this would cause problems in processing natural language."
      ],
      "metadata": {
        "id": "O7DJ2U0PKZKq"
      }
    },
    {
      "cell_type": "markdown",
      "source": [
        "In nearly all natural languages there is some level of ambiguity that can cause problems for NLP applications. Since we are working today with English, I will discuss ambiguity the English language. Ambiguity in English is often caused by homonyms. Homonyms come in two forms - homophones and homographs.  \n",
        "\n",
        "Homophones are words that are pronounced the same but have different meanings (and often spellings also). Consider the following sentences: \n",
        "\n",
        "*   I put a **lead** on the dog.\n",
        "*   He **lead** them astray.\n",
        "\n",
        "\n",
        "\n",
        "*   Her favourite color is **blue**.\n",
        "*   The wind **blew** it away.\n",
        "\n",
        "\n",
        "Here, the words 'lead' and 'lead' as well as 'blue' and 'blew' have the same pronounciation but mean different things. Hearing the word alone is not enough to determine which meaning is meant. Whilst, sometimes the spelling of the word can differentiate the meaning as we can see with 'blue' and 'blew', usually the context is required for the meaning to be understood. This can create an issue for NLP speech recognition applications as more information other than the single word is needed to determine which word is being spoken. Hence, the application cannot approach the input one word at a time, it must consider series of words in order to interpret the context and attribute the appropriate meaning. \n",
        "\n",
        "Similarly, homographs are words that are spelt the same but have different meanings (and are often pronounced differently as well). An example of this is '**read**' (present tense) and '**read**' (past tense). These words often need pronounciations or contextual information from the whole sentence to be properly understood by machines or humans. NLP algorithms will struggle to distinguish these words from each other, as words with the same spelling will be considered the same 'word' if words are counted. For example, although word tagging can help mitigate this, a simple model that generates the next word in a sentence could generate the phrase 'a present this' because both 'a present' and 'present this' occur frequently together. However, the term in the first sentence refers to the noun *present* and the term in the verb *to present*, but both meanings are being 'lumped together' into one term. Hence, the resuling sentence is grammatically incorrect. \n",
        "\n",
        "Furthermore, certain words are both homophones and homographs. Consider:\n",
        "\n",
        "*   **Go**!\n",
        "\n",
        "Are they ordering someone to leave or cheering them on?\n",
        "\n",
        "*   I made her **duck**.\n",
        "\n",
        "Did she bend down to avoid an overhead object, eating water-fowl that has been prepared for her or some other meaning? \n",
        "\n",
        "These are full sentences, but even further context is required to determine their meaning. Further context can include the setting, previous sentences or even the tone or emotion of the speaker. Pronouns, emphasis, sarcasm, abbreviations, word variants and slang can provide further complexities that are problematic for computers. Humans are exeptionally good at understanding the complexities of natural language, although some still struggle - machines, however, can only understand natural language according to their given facilities. Capturing these complexities in a framework in a primary goal of NLP work.\n",
        "\n",
        "\n"
      ],
      "metadata": {
        "id": "0P15ddiGKe_x"
      }
    },
    {
      "cell_type": "markdown",
      "source": [
        "## Coding exercises"
      ],
      "metadata": {
        "id": "aFwczYDJLHG3"
      }
    },
    {
      "cell_type": "markdown",
      "source": [
        "For this assignment I have used the Tripadvisor Reviews 2023 dataset available to download on Kaggle here: https://www.kaggle.com/datasets/arnabchaki/tripadvisor-reviews-2023"
      ],
      "metadata": {
        "id": "3FKHpFRi68Kr"
      }
    },
    {
      "cell_type": "code",
      "source": [
        "# Uploads the selected file to Google Colab\n",
        "from google.colab import files\n",
        "uploaded = files.upload()"
      ],
      "metadata": {
        "colab": {
          "base_uri": "https://localhost:8080/",
          "height": 73
        },
        "id": "aXc1J2UZAqip",
        "outputId": "b537d41e-1b96-4159-e26c-6388eb579fed"
      },
      "execution_count": 3,
      "outputs": [
        {
          "output_type": "display_data",
          "data": {
            "text/plain": [
              "<IPython.core.display.HTML object>"
            ],
            "text/html": [
              "\n",
              "     <input type=\"file\" id=\"files-33abd30c-59c5-4cf0-8b77-65c1322b65be\" name=\"files[]\" multiple disabled\n",
              "        style=\"border:none\" />\n",
              "     <output id=\"result-33abd30c-59c5-4cf0-8b77-65c1322b65be\">\n",
              "      Upload widget is only available when the cell has been executed in the\n",
              "      current browser session. Please rerun this cell to enable.\n",
              "      </output>\n",
              "      <script>// Copyright 2017 Google LLC\n",
              "//\n",
              "// Licensed under the Apache License, Version 2.0 (the \"License\");\n",
              "// you may not use this file except in compliance with the License.\n",
              "// You may obtain a copy of the License at\n",
              "//\n",
              "//      http://www.apache.org/licenses/LICENSE-2.0\n",
              "//\n",
              "// Unless required by applicable law or agreed to in writing, software\n",
              "// distributed under the License is distributed on an \"AS IS\" BASIS,\n",
              "// WITHOUT WARRANTIES OR CONDITIONS OF ANY KIND, either express or implied.\n",
              "// See the License for the specific language governing permissions and\n",
              "// limitations under the License.\n",
              "\n",
              "/**\n",
              " * @fileoverview Helpers for google.colab Python module.\n",
              " */\n",
              "(function(scope) {\n",
              "function span(text, styleAttributes = {}) {\n",
              "  const element = document.createElement('span');\n",
              "  element.textContent = text;\n",
              "  for (const key of Object.keys(styleAttributes)) {\n",
              "    element.style[key] = styleAttributes[key];\n",
              "  }\n",
              "  return element;\n",
              "}\n",
              "\n",
              "// Max number of bytes which will be uploaded at a time.\n",
              "const MAX_PAYLOAD_SIZE = 100 * 1024;\n",
              "\n",
              "function _uploadFiles(inputId, outputId) {\n",
              "  const steps = uploadFilesStep(inputId, outputId);\n",
              "  const outputElement = document.getElementById(outputId);\n",
              "  // Cache steps on the outputElement to make it available for the next call\n",
              "  // to uploadFilesContinue from Python.\n",
              "  outputElement.steps = steps;\n",
              "\n",
              "  return _uploadFilesContinue(outputId);\n",
              "}\n",
              "\n",
              "// This is roughly an async generator (not supported in the browser yet),\n",
              "// where there are multiple asynchronous steps and the Python side is going\n",
              "// to poll for completion of each step.\n",
              "// This uses a Promise to block the python side on completion of each step,\n",
              "// then passes the result of the previous step as the input to the next step.\n",
              "function _uploadFilesContinue(outputId) {\n",
              "  const outputElement = document.getElementById(outputId);\n",
              "  const steps = outputElement.steps;\n",
              "\n",
              "  const next = steps.next(outputElement.lastPromiseValue);\n",
              "  return Promise.resolve(next.value.promise).then((value) => {\n",
              "    // Cache the last promise value to make it available to the next\n",
              "    // step of the generator.\n",
              "    outputElement.lastPromiseValue = value;\n",
              "    return next.value.response;\n",
              "  });\n",
              "}\n",
              "\n",
              "/**\n",
              " * Generator function which is called between each async step of the upload\n",
              " * process.\n",
              " * @param {string} inputId Element ID of the input file picker element.\n",
              " * @param {string} outputId Element ID of the output display.\n",
              " * @return {!Iterable<!Object>} Iterable of next steps.\n",
              " */\n",
              "function* uploadFilesStep(inputId, outputId) {\n",
              "  const inputElement = document.getElementById(inputId);\n",
              "  inputElement.disabled = false;\n",
              "\n",
              "  const outputElement = document.getElementById(outputId);\n",
              "  outputElement.innerHTML = '';\n",
              "\n",
              "  const pickedPromise = new Promise((resolve) => {\n",
              "    inputElement.addEventListener('change', (e) => {\n",
              "      resolve(e.target.files);\n",
              "    });\n",
              "  });\n",
              "\n",
              "  const cancel = document.createElement('button');\n",
              "  inputElement.parentElement.appendChild(cancel);\n",
              "  cancel.textContent = 'Cancel upload';\n",
              "  const cancelPromise = new Promise((resolve) => {\n",
              "    cancel.onclick = () => {\n",
              "      resolve(null);\n",
              "    };\n",
              "  });\n",
              "\n",
              "  // Wait for the user to pick the files.\n",
              "  const files = yield {\n",
              "    promise: Promise.race([pickedPromise, cancelPromise]),\n",
              "    response: {\n",
              "      action: 'starting',\n",
              "    }\n",
              "  };\n",
              "\n",
              "  cancel.remove();\n",
              "\n",
              "  // Disable the input element since further picks are not allowed.\n",
              "  inputElement.disabled = true;\n",
              "\n",
              "  if (!files) {\n",
              "    return {\n",
              "      response: {\n",
              "        action: 'complete',\n",
              "      }\n",
              "    };\n",
              "  }\n",
              "\n",
              "  for (const file of files) {\n",
              "    const li = document.createElement('li');\n",
              "    li.append(span(file.name, {fontWeight: 'bold'}));\n",
              "    li.append(span(\n",
              "        `(${file.type || 'n/a'}) - ${file.size} bytes, ` +\n",
              "        `last modified: ${\n",
              "            file.lastModifiedDate ? file.lastModifiedDate.toLocaleDateString() :\n",
              "                                    'n/a'} - `));\n",
              "    const percent = span('0% done');\n",
              "    li.appendChild(percent);\n",
              "\n",
              "    outputElement.appendChild(li);\n",
              "\n",
              "    const fileDataPromise = new Promise((resolve) => {\n",
              "      const reader = new FileReader();\n",
              "      reader.onload = (e) => {\n",
              "        resolve(e.target.result);\n",
              "      };\n",
              "      reader.readAsArrayBuffer(file);\n",
              "    });\n",
              "    // Wait for the data to be ready.\n",
              "    let fileData = yield {\n",
              "      promise: fileDataPromise,\n",
              "      response: {\n",
              "        action: 'continue',\n",
              "      }\n",
              "    };\n",
              "\n",
              "    // Use a chunked sending to avoid message size limits. See b/62115660.\n",
              "    let position = 0;\n",
              "    do {\n",
              "      const length = Math.min(fileData.byteLength - position, MAX_PAYLOAD_SIZE);\n",
              "      const chunk = new Uint8Array(fileData, position, length);\n",
              "      position += length;\n",
              "\n",
              "      const base64 = btoa(String.fromCharCode.apply(null, chunk));\n",
              "      yield {\n",
              "        response: {\n",
              "          action: 'append',\n",
              "          file: file.name,\n",
              "          data: base64,\n",
              "        },\n",
              "      };\n",
              "\n",
              "      let percentDone = fileData.byteLength === 0 ?\n",
              "          100 :\n",
              "          Math.round((position / fileData.byteLength) * 100);\n",
              "      percent.textContent = `${percentDone}% done`;\n",
              "\n",
              "    } while (position < fileData.byteLength);\n",
              "  }\n",
              "\n",
              "  // All done.\n",
              "  yield {\n",
              "    response: {\n",
              "      action: 'complete',\n",
              "    }\n",
              "  };\n",
              "}\n",
              "\n",
              "scope.google = scope.google || {};\n",
              "scope.google.colab = scope.google.colab || {};\n",
              "scope.google.colab._files = {\n",
              "  _uploadFiles,\n",
              "  _uploadFilesContinue,\n",
              "};\n",
              "})(self);\n",
              "</script> "
            ]
          },
          "metadata": {}
        },
        {
          "output_type": "stream",
          "name": "stdout",
          "text": [
            "Saving New_Delhi_reviews.csv to New_Delhi_reviews.csv\n"
          ]
        }
      ]
    },
    {
      "cell_type": "markdown",
      "source": [
        "#### 3. Choose a natural language corpus from an open-source repository. Write a routine using Python and the NLTK library to ingest the dataset and perform the following functions:\n",
        "\n",
        "*   Text normalisation\n",
        "*   Tokenization of the sentences"
      ],
      "metadata": {
        "id": "-2TXYW6xKbyI"
      }
    },
    {
      "cell_type": "markdown",
      "source": [
        "Firstly, I ingest the Reviews dataset and remove the empty reviews. The Tripadvisor Reviews dataset contains thousands of natural language reviews, each with an attributed rating. The first 5 rows of the data are displayed below."
      ],
      "metadata": {
        "id": "4xEceaM4gcsA"
      }
    },
    {
      "cell_type": "code",
      "source": [
        "# Assigns the dataset filepath to the datafile variable\n",
        "file = 'New_Delhi_reviews.csv'\n",
        "\n",
        "# Loads the New_Delhi_reviews.csv dataset. \n",
        "reviews = pd.read_csv(file)\n",
        "reviews = reviews.dropna()\n",
        "\n",
        "reviews.head(5)"
      ],
      "metadata": {
        "id": "6iN8juvoKbcg",
        "colab": {
          "base_uri": "https://localhost:8080/",
          "height": 206
        },
        "outputId": "3bb8ac96-7e28-4bdb-8a47-e4e59aa5fc12"
      },
      "execution_count": 5,
      "outputs": [
        {
          "output_type": "execute_result",
          "data": {
            "text/plain": [
              "   rating_review                                        review_full\n",
              "0              5  Totally in love with the Auro of the place, re...\n",
              "1              5  I went this bar 8 days regularly with my husba...\n",
              "2              5  We were few friends and was a birthday celebra...\n",
              "3              5  Fatjar Cafe and Market is the perfect place fo...\n",
              "4              5  Hey Guys, if you are craving for pizza and sea..."
            ],
            "text/html": [
              "\n",
              "  <div id=\"df-1a9857b0-7b3f-4ddc-99d0-bb1b08647159\">\n",
              "    <div class=\"colab-df-container\">\n",
              "      <div>\n",
              "<style scoped>\n",
              "    .dataframe tbody tr th:only-of-type {\n",
              "        vertical-align: middle;\n",
              "    }\n",
              "\n",
              "    .dataframe tbody tr th {\n",
              "        vertical-align: top;\n",
              "    }\n",
              "\n",
              "    .dataframe thead th {\n",
              "        text-align: right;\n",
              "    }\n",
              "</style>\n",
              "<table border=\"1\" class=\"dataframe\">\n",
              "  <thead>\n",
              "    <tr style=\"text-align: right;\">\n",
              "      <th></th>\n",
              "      <th>rating_review</th>\n",
              "      <th>review_full</th>\n",
              "    </tr>\n",
              "  </thead>\n",
              "  <tbody>\n",
              "    <tr>\n",
              "      <th>0</th>\n",
              "      <td>5</td>\n",
              "      <td>Totally in love with the Auro of the place, re...</td>\n",
              "    </tr>\n",
              "    <tr>\n",
              "      <th>1</th>\n",
              "      <td>5</td>\n",
              "      <td>I went this bar 8 days regularly with my husba...</td>\n",
              "    </tr>\n",
              "    <tr>\n",
              "      <th>2</th>\n",
              "      <td>5</td>\n",
              "      <td>We were few friends and was a birthday celebra...</td>\n",
              "    </tr>\n",
              "    <tr>\n",
              "      <th>3</th>\n",
              "      <td>5</td>\n",
              "      <td>Fatjar Cafe and Market is the perfect place fo...</td>\n",
              "    </tr>\n",
              "    <tr>\n",
              "      <th>4</th>\n",
              "      <td>5</td>\n",
              "      <td>Hey Guys, if you are craving for pizza and sea...</td>\n",
              "    </tr>\n",
              "  </tbody>\n",
              "</table>\n",
              "</div>\n",
              "      <button class=\"colab-df-convert\" onclick=\"convertToInteractive('df-1a9857b0-7b3f-4ddc-99d0-bb1b08647159')\"\n",
              "              title=\"Convert this dataframe to an interactive table.\"\n",
              "              style=\"display:none;\">\n",
              "        \n",
              "  <svg xmlns=\"http://www.w3.org/2000/svg\" height=\"24px\"viewBox=\"0 0 24 24\"\n",
              "       width=\"24px\">\n",
              "    <path d=\"M0 0h24v24H0V0z\" fill=\"none\"/>\n",
              "    <path d=\"M18.56 5.44l.94 2.06.94-2.06 2.06-.94-2.06-.94-.94-2.06-.94 2.06-2.06.94zm-11 1L8.5 8.5l.94-2.06 2.06-.94-2.06-.94L8.5 2.5l-.94 2.06-2.06.94zm10 10l.94 2.06.94-2.06 2.06-.94-2.06-.94-.94-2.06-.94 2.06-2.06.94z\"/><path d=\"M17.41 7.96l-1.37-1.37c-.4-.4-.92-.59-1.43-.59-.52 0-1.04.2-1.43.59L10.3 9.45l-7.72 7.72c-.78.78-.78 2.05 0 2.83L4 21.41c.39.39.9.59 1.41.59.51 0 1.02-.2 1.41-.59l7.78-7.78 2.81-2.81c.8-.78.8-2.07 0-2.86zM5.41 20L4 18.59l7.72-7.72 1.47 1.35L5.41 20z\"/>\n",
              "  </svg>\n",
              "      </button>\n",
              "      \n",
              "  <style>\n",
              "    .colab-df-container {\n",
              "      display:flex;\n",
              "      flex-wrap:wrap;\n",
              "      gap: 12px;\n",
              "    }\n",
              "\n",
              "    .colab-df-convert {\n",
              "      background-color: #E8F0FE;\n",
              "      border: none;\n",
              "      border-radius: 50%;\n",
              "      cursor: pointer;\n",
              "      display: none;\n",
              "      fill: #1967D2;\n",
              "      height: 32px;\n",
              "      padding: 0 0 0 0;\n",
              "      width: 32px;\n",
              "    }\n",
              "\n",
              "    .colab-df-convert:hover {\n",
              "      background-color: #E2EBFA;\n",
              "      box-shadow: 0px 1px 2px rgba(60, 64, 67, 0.3), 0px 1px 3px 1px rgba(60, 64, 67, 0.15);\n",
              "      fill: #174EA6;\n",
              "    }\n",
              "\n",
              "    [theme=dark] .colab-df-convert {\n",
              "      background-color: #3B4455;\n",
              "      fill: #D2E3FC;\n",
              "    }\n",
              "\n",
              "    [theme=dark] .colab-df-convert:hover {\n",
              "      background-color: #434B5C;\n",
              "      box-shadow: 0px 1px 3px 1px rgba(0, 0, 0, 0.15);\n",
              "      filter: drop-shadow(0px 1px 2px rgba(0, 0, 0, 0.3));\n",
              "      fill: #FFFFFF;\n",
              "    }\n",
              "  </style>\n",
              "\n",
              "      <script>\n",
              "        const buttonEl =\n",
              "          document.querySelector('#df-1a9857b0-7b3f-4ddc-99d0-bb1b08647159 button.colab-df-convert');\n",
              "        buttonEl.style.display =\n",
              "          google.colab.kernel.accessAllowed ? 'block' : 'none';\n",
              "\n",
              "        async function convertToInteractive(key) {\n",
              "          const element = document.querySelector('#df-1a9857b0-7b3f-4ddc-99d0-bb1b08647159');\n",
              "          const dataTable =\n",
              "            await google.colab.kernel.invokeFunction('convertToInteractive',\n",
              "                                                     [key], {});\n",
              "          if (!dataTable) return;\n",
              "\n",
              "          const docLinkHtml = 'Like what you see? Visit the ' +\n",
              "            '<a target=\"_blank\" href=https://colab.research.google.com/notebooks/data_table.ipynb>data table notebook</a>'\n",
              "            + ' to learn more about interactive tables.';\n",
              "          element.innerHTML = '';\n",
              "          dataTable['output_type'] = 'display_data';\n",
              "          await google.colab.output.renderOutput(dataTable, element);\n",
              "          const docLink = document.createElement('div');\n",
              "          docLink.innerHTML = docLinkHtml;\n",
              "          element.appendChild(docLink);\n",
              "        }\n",
              "      </script>\n",
              "    </div>\n",
              "  </div>\n",
              "  "
            ]
          },
          "metadata": {},
          "execution_count": 5
        }
      ]
    },
    {
      "cell_type": "markdown",
      "source": [
        "There are a variety of ways to normalise text, depending on the usage of your data. Normalisation tends to involve a combination of tokenization, sentence segmentation, case-standardisation, removal of stopwords ('a', 'the', 'of' etc.), removal of digits and stemming/lemmatization. In order to normalise my corpus of text data, I perform only two operations on the `review_full` column, followed by tokenization.\n",
        "\n",
        "1. I normalise the case of the text, making all characters lower case. This is so that words like 'Totally' and 'totally' will be counted towards the same word.\n",
        "2. I remove digits from the text. Whilst digits or numbers may be useful in some scenarios, they are not needed for my current task and can often be the result of typos or transcription errors.\n",
        "\n",
        "I store the normalised text in a new column `review_normal` in order to preserve the original review. You can see this new column in the data displayed below. Further text normalisation procedures can include removing punctuation from the text. However, as I will be using the punctuation to perform sentence segmentation later on I have opted to have punctuation present."
      ],
      "metadata": {
        "id": "iDXJAQFZhrhJ"
      }
    },
    {
      "cell_type": "code",
      "source": [
        "# Text normalisation\n",
        "reviews['review_normal'] = reviews['review_full'].str.lower().str.replace(r'\\d+', '', regex=True)\n",
        "reviews.head(5)"
      ],
      "metadata": {
        "colab": {
          "base_uri": "https://localhost:8080/",
          "height": 206
        },
        "id": "KYNi0U1fF0bu",
        "outputId": "27573785-e9aa-4536-a1ac-c4bcd25e9a28"
      },
      "execution_count": 6,
      "outputs": [
        {
          "output_type": "execute_result",
          "data": {
            "text/plain": [
              "   rating_review                                        review_full  \\\n",
              "0              5  Totally in love with the Auro of the place, re...   \n",
              "1              5  I went this bar 8 days regularly with my husba...   \n",
              "2              5  We were few friends and was a birthday celebra...   \n",
              "3              5  Fatjar Cafe and Market is the perfect place fo...   \n",
              "4              5  Hey Guys, if you are craving for pizza and sea...   \n",
              "\n",
              "                                       review_normal  \n",
              "0  totally in love with the auro of the place, re...  \n",
              "1  i went this bar  days regularly with my husban...  \n",
              "2  we were few friends and was a birthday celebra...  \n",
              "3  fatjar cafe and market is the perfect place fo...  \n",
              "4  hey guys, if you are craving for pizza and sea...  "
            ],
            "text/html": [
              "\n",
              "  <div id=\"df-ab001778-a23a-40b2-bc08-c32da283d4bc\">\n",
              "    <div class=\"colab-df-container\">\n",
              "      <div>\n",
              "<style scoped>\n",
              "    .dataframe tbody tr th:only-of-type {\n",
              "        vertical-align: middle;\n",
              "    }\n",
              "\n",
              "    .dataframe tbody tr th {\n",
              "        vertical-align: top;\n",
              "    }\n",
              "\n",
              "    .dataframe thead th {\n",
              "        text-align: right;\n",
              "    }\n",
              "</style>\n",
              "<table border=\"1\" class=\"dataframe\">\n",
              "  <thead>\n",
              "    <tr style=\"text-align: right;\">\n",
              "      <th></th>\n",
              "      <th>rating_review</th>\n",
              "      <th>review_full</th>\n",
              "      <th>review_normal</th>\n",
              "    </tr>\n",
              "  </thead>\n",
              "  <tbody>\n",
              "    <tr>\n",
              "      <th>0</th>\n",
              "      <td>5</td>\n",
              "      <td>Totally in love with the Auro of the place, re...</td>\n",
              "      <td>totally in love with the auro of the place, re...</td>\n",
              "    </tr>\n",
              "    <tr>\n",
              "      <th>1</th>\n",
              "      <td>5</td>\n",
              "      <td>I went this bar 8 days regularly with my husba...</td>\n",
              "      <td>i went this bar  days regularly with my husban...</td>\n",
              "    </tr>\n",
              "    <tr>\n",
              "      <th>2</th>\n",
              "      <td>5</td>\n",
              "      <td>We were few friends and was a birthday celebra...</td>\n",
              "      <td>we were few friends and was a birthday celebra...</td>\n",
              "    </tr>\n",
              "    <tr>\n",
              "      <th>3</th>\n",
              "      <td>5</td>\n",
              "      <td>Fatjar Cafe and Market is the perfect place fo...</td>\n",
              "      <td>fatjar cafe and market is the perfect place fo...</td>\n",
              "    </tr>\n",
              "    <tr>\n",
              "      <th>4</th>\n",
              "      <td>5</td>\n",
              "      <td>Hey Guys, if you are craving for pizza and sea...</td>\n",
              "      <td>hey guys, if you are craving for pizza and sea...</td>\n",
              "    </tr>\n",
              "  </tbody>\n",
              "</table>\n",
              "</div>\n",
              "      <button class=\"colab-df-convert\" onclick=\"convertToInteractive('df-ab001778-a23a-40b2-bc08-c32da283d4bc')\"\n",
              "              title=\"Convert this dataframe to an interactive table.\"\n",
              "              style=\"display:none;\">\n",
              "        \n",
              "  <svg xmlns=\"http://www.w3.org/2000/svg\" height=\"24px\"viewBox=\"0 0 24 24\"\n",
              "       width=\"24px\">\n",
              "    <path d=\"M0 0h24v24H0V0z\" fill=\"none\"/>\n",
              "    <path d=\"M18.56 5.44l.94 2.06.94-2.06 2.06-.94-2.06-.94-.94-2.06-.94 2.06-2.06.94zm-11 1L8.5 8.5l.94-2.06 2.06-.94-2.06-.94L8.5 2.5l-.94 2.06-2.06.94zm10 10l.94 2.06.94-2.06 2.06-.94-2.06-.94-.94-2.06-.94 2.06-2.06.94z\"/><path d=\"M17.41 7.96l-1.37-1.37c-.4-.4-.92-.59-1.43-.59-.52 0-1.04.2-1.43.59L10.3 9.45l-7.72 7.72c-.78.78-.78 2.05 0 2.83L4 21.41c.39.39.9.59 1.41.59.51 0 1.02-.2 1.41-.59l7.78-7.78 2.81-2.81c.8-.78.8-2.07 0-2.86zM5.41 20L4 18.59l7.72-7.72 1.47 1.35L5.41 20z\"/>\n",
              "  </svg>\n",
              "      </button>\n",
              "      \n",
              "  <style>\n",
              "    .colab-df-container {\n",
              "      display:flex;\n",
              "      flex-wrap:wrap;\n",
              "      gap: 12px;\n",
              "    }\n",
              "\n",
              "    .colab-df-convert {\n",
              "      background-color: #E8F0FE;\n",
              "      border: none;\n",
              "      border-radius: 50%;\n",
              "      cursor: pointer;\n",
              "      display: none;\n",
              "      fill: #1967D2;\n",
              "      height: 32px;\n",
              "      padding: 0 0 0 0;\n",
              "      width: 32px;\n",
              "    }\n",
              "\n",
              "    .colab-df-convert:hover {\n",
              "      background-color: #E2EBFA;\n",
              "      box-shadow: 0px 1px 2px rgba(60, 64, 67, 0.3), 0px 1px 3px 1px rgba(60, 64, 67, 0.15);\n",
              "      fill: #174EA6;\n",
              "    }\n",
              "\n",
              "    [theme=dark] .colab-df-convert {\n",
              "      background-color: #3B4455;\n",
              "      fill: #D2E3FC;\n",
              "    }\n",
              "\n",
              "    [theme=dark] .colab-df-convert:hover {\n",
              "      background-color: #434B5C;\n",
              "      box-shadow: 0px 1px 3px 1px rgba(0, 0, 0, 0.15);\n",
              "      filter: drop-shadow(0px 1px 2px rgba(0, 0, 0, 0.3));\n",
              "      fill: #FFFFFF;\n",
              "    }\n",
              "  </style>\n",
              "\n",
              "      <script>\n",
              "        const buttonEl =\n",
              "          document.querySelector('#df-ab001778-a23a-40b2-bc08-c32da283d4bc button.colab-df-convert');\n",
              "        buttonEl.style.display =\n",
              "          google.colab.kernel.accessAllowed ? 'block' : 'none';\n",
              "\n",
              "        async function convertToInteractive(key) {\n",
              "          const element = document.querySelector('#df-ab001778-a23a-40b2-bc08-c32da283d4bc');\n",
              "          const dataTable =\n",
              "            await google.colab.kernel.invokeFunction('convertToInteractive',\n",
              "                                                     [key], {});\n",
              "          if (!dataTable) return;\n",
              "\n",
              "          const docLinkHtml = 'Like what you see? Visit the ' +\n",
              "            '<a target=\"_blank\" href=https://colab.research.google.com/notebooks/data_table.ipynb>data table notebook</a>'\n",
              "            + ' to learn more about interactive tables.';\n",
              "          element.innerHTML = '';\n",
              "          dataTable['output_type'] = 'display_data';\n",
              "          await google.colab.output.renderOutput(dataTable, element);\n",
              "          const docLink = document.createElement('div');\n",
              "          docLink.innerHTML = docLinkHtml;\n",
              "          element.appendChild(docLink);\n",
              "        }\n",
              "      </script>\n",
              "    </div>\n",
              "  </div>\n",
              "  "
            ]
          },
          "metadata": {},
          "execution_count": 6
        }
      ]
    },
    {
      "cell_type": "markdown",
      "source": [
        "I further create a new column `tokens` to store the list of tokens in each sentence using NLTK's word_tokenize function. An explanation of tokenisation can be found in the following question. "
      ],
      "metadata": {
        "id": "q7DHiPRPi2M1"
      }
    },
    {
      "cell_type": "code",
      "source": [
        "# Creates a list of tokens from the review\n",
        "reviews['tokens_full'] = reviews['review_full'].map(word_tokenize)\n",
        "reviews['tokens_normal'] = reviews['review_normal'].map(word_tokenize)\n",
        "reviews.head(5)"
      ],
      "metadata": {
        "colab": {
          "base_uri": "https://localhost:8080/",
          "height": 206
        },
        "id": "aVJulWTR70wd",
        "outputId": "0b57bd8a-d85a-4bbf-d0cd-b144929cf70a"
      },
      "execution_count": 7,
      "outputs": [
        {
          "output_type": "execute_result",
          "data": {
            "text/plain": [
              "   rating_review                                        review_full  \\\n",
              "0              5  Totally in love with the Auro of the place, re...   \n",
              "1              5  I went this bar 8 days regularly with my husba...   \n",
              "2              5  We were few friends and was a birthday celebra...   \n",
              "3              5  Fatjar Cafe and Market is the perfect place fo...   \n",
              "4              5  Hey Guys, if you are craving for pizza and sea...   \n",
              "\n",
              "                                       review_normal  \\\n",
              "0  totally in love with the auro of the place, re...   \n",
              "1  i went this bar  days regularly with my husban...   \n",
              "2  we were few friends and was a birthday celebra...   \n",
              "3  fatjar cafe and market is the perfect place fo...   \n",
              "4  hey guys, if you are craving for pizza and sea...   \n",
              "\n",
              "                                         tokens_full  \\\n",
              "0  [Totally, in, love, with, the, Auro, of, the, ...   \n",
              "1  [I, went, this, bar, 8, days, regularly, with,...   \n",
              "2  [We, were, few, friends, and, was, a, birthday...   \n",
              "3  [Fatjar, Cafe, and, Market, is, the, perfect, ...   \n",
              "4  [Hey, Guys, ,, if, you, are, craving, for, piz...   \n",
              "\n",
              "                                       tokens_normal  \n",
              "0  [totally, in, love, with, the, auro, of, the, ...  \n",
              "1  [i, went, this, bar, days, regularly, with, my...  \n",
              "2  [we, were, few, friends, and, was, a, birthday...  \n",
              "3  [fatjar, cafe, and, market, is, the, perfect, ...  \n",
              "4  [hey, guys, ,, if, you, are, craving, for, piz...  "
            ],
            "text/html": [
              "\n",
              "  <div id=\"df-04ca7d0a-624f-41db-9950-e296f4df7ac4\">\n",
              "    <div class=\"colab-df-container\">\n",
              "      <div>\n",
              "<style scoped>\n",
              "    .dataframe tbody tr th:only-of-type {\n",
              "        vertical-align: middle;\n",
              "    }\n",
              "\n",
              "    .dataframe tbody tr th {\n",
              "        vertical-align: top;\n",
              "    }\n",
              "\n",
              "    .dataframe thead th {\n",
              "        text-align: right;\n",
              "    }\n",
              "</style>\n",
              "<table border=\"1\" class=\"dataframe\">\n",
              "  <thead>\n",
              "    <tr style=\"text-align: right;\">\n",
              "      <th></th>\n",
              "      <th>rating_review</th>\n",
              "      <th>review_full</th>\n",
              "      <th>review_normal</th>\n",
              "      <th>tokens_full</th>\n",
              "      <th>tokens_normal</th>\n",
              "    </tr>\n",
              "  </thead>\n",
              "  <tbody>\n",
              "    <tr>\n",
              "      <th>0</th>\n",
              "      <td>5</td>\n",
              "      <td>Totally in love with the Auro of the place, re...</td>\n",
              "      <td>totally in love with the auro of the place, re...</td>\n",
              "      <td>[Totally, in, love, with, the, Auro, of, the, ...</td>\n",
              "      <td>[totally, in, love, with, the, auro, of, the, ...</td>\n",
              "    </tr>\n",
              "    <tr>\n",
              "      <th>1</th>\n",
              "      <td>5</td>\n",
              "      <td>I went this bar 8 days regularly with my husba...</td>\n",
              "      <td>i went this bar  days regularly with my husban...</td>\n",
              "      <td>[I, went, this, bar, 8, days, regularly, with,...</td>\n",
              "      <td>[i, went, this, bar, days, regularly, with, my...</td>\n",
              "    </tr>\n",
              "    <tr>\n",
              "      <th>2</th>\n",
              "      <td>5</td>\n",
              "      <td>We were few friends and was a birthday celebra...</td>\n",
              "      <td>we were few friends and was a birthday celebra...</td>\n",
              "      <td>[We, were, few, friends, and, was, a, birthday...</td>\n",
              "      <td>[we, were, few, friends, and, was, a, birthday...</td>\n",
              "    </tr>\n",
              "    <tr>\n",
              "      <th>3</th>\n",
              "      <td>5</td>\n",
              "      <td>Fatjar Cafe and Market is the perfect place fo...</td>\n",
              "      <td>fatjar cafe and market is the perfect place fo...</td>\n",
              "      <td>[Fatjar, Cafe, and, Market, is, the, perfect, ...</td>\n",
              "      <td>[fatjar, cafe, and, market, is, the, perfect, ...</td>\n",
              "    </tr>\n",
              "    <tr>\n",
              "      <th>4</th>\n",
              "      <td>5</td>\n",
              "      <td>Hey Guys, if you are craving for pizza and sea...</td>\n",
              "      <td>hey guys, if you are craving for pizza and sea...</td>\n",
              "      <td>[Hey, Guys, ,, if, you, are, craving, for, piz...</td>\n",
              "      <td>[hey, guys, ,, if, you, are, craving, for, piz...</td>\n",
              "    </tr>\n",
              "  </tbody>\n",
              "</table>\n",
              "</div>\n",
              "      <button class=\"colab-df-convert\" onclick=\"convertToInteractive('df-04ca7d0a-624f-41db-9950-e296f4df7ac4')\"\n",
              "              title=\"Convert this dataframe to an interactive table.\"\n",
              "              style=\"display:none;\">\n",
              "        \n",
              "  <svg xmlns=\"http://www.w3.org/2000/svg\" height=\"24px\"viewBox=\"0 0 24 24\"\n",
              "       width=\"24px\">\n",
              "    <path d=\"M0 0h24v24H0V0z\" fill=\"none\"/>\n",
              "    <path d=\"M18.56 5.44l.94 2.06.94-2.06 2.06-.94-2.06-.94-.94-2.06-.94 2.06-2.06.94zm-11 1L8.5 8.5l.94-2.06 2.06-.94-2.06-.94L8.5 2.5l-.94 2.06-2.06.94zm10 10l.94 2.06.94-2.06 2.06-.94-2.06-.94-.94-2.06-.94 2.06-2.06.94z\"/><path d=\"M17.41 7.96l-1.37-1.37c-.4-.4-.92-.59-1.43-.59-.52 0-1.04.2-1.43.59L10.3 9.45l-7.72 7.72c-.78.78-.78 2.05 0 2.83L4 21.41c.39.39.9.59 1.41.59.51 0 1.02-.2 1.41-.59l7.78-7.78 2.81-2.81c.8-.78.8-2.07 0-2.86zM5.41 20L4 18.59l7.72-7.72 1.47 1.35L5.41 20z\"/>\n",
              "  </svg>\n",
              "      </button>\n",
              "      \n",
              "  <style>\n",
              "    .colab-df-container {\n",
              "      display:flex;\n",
              "      flex-wrap:wrap;\n",
              "      gap: 12px;\n",
              "    }\n",
              "\n",
              "    .colab-df-convert {\n",
              "      background-color: #E8F0FE;\n",
              "      border: none;\n",
              "      border-radius: 50%;\n",
              "      cursor: pointer;\n",
              "      display: none;\n",
              "      fill: #1967D2;\n",
              "      height: 32px;\n",
              "      padding: 0 0 0 0;\n",
              "      width: 32px;\n",
              "    }\n",
              "\n",
              "    .colab-df-convert:hover {\n",
              "      background-color: #E2EBFA;\n",
              "      box-shadow: 0px 1px 2px rgba(60, 64, 67, 0.3), 0px 1px 3px 1px rgba(60, 64, 67, 0.15);\n",
              "      fill: #174EA6;\n",
              "    }\n",
              "\n",
              "    [theme=dark] .colab-df-convert {\n",
              "      background-color: #3B4455;\n",
              "      fill: #D2E3FC;\n",
              "    }\n",
              "\n",
              "    [theme=dark] .colab-df-convert:hover {\n",
              "      background-color: #434B5C;\n",
              "      box-shadow: 0px 1px 3px 1px rgba(0, 0, 0, 0.15);\n",
              "      filter: drop-shadow(0px 1px 2px rgba(0, 0, 0, 0.3));\n",
              "      fill: #FFFFFF;\n",
              "    }\n",
              "  </style>\n",
              "\n",
              "      <script>\n",
              "        const buttonEl =\n",
              "          document.querySelector('#df-04ca7d0a-624f-41db-9950-e296f4df7ac4 button.colab-df-convert');\n",
              "        buttonEl.style.display =\n",
              "          google.colab.kernel.accessAllowed ? 'block' : 'none';\n",
              "\n",
              "        async function convertToInteractive(key) {\n",
              "          const element = document.querySelector('#df-04ca7d0a-624f-41db-9950-e296f4df7ac4');\n",
              "          const dataTable =\n",
              "            await google.colab.kernel.invokeFunction('convertToInteractive',\n",
              "                                                     [key], {});\n",
              "          if (!dataTable) return;\n",
              "\n",
              "          const docLinkHtml = 'Like what you see? Visit the ' +\n",
              "            '<a target=\"_blank\" href=https://colab.research.google.com/notebooks/data_table.ipynb>data table notebook</a>'\n",
              "            + ' to learn more about interactive tables.';\n",
              "          element.innerHTML = '';\n",
              "          dataTable['output_type'] = 'display_data';\n",
              "          await google.colab.output.renderOutput(dataTable, element);\n",
              "          const docLink = document.createElement('div');\n",
              "          docLink.innerHTML = docLinkHtml;\n",
              "          element.appendChild(docLink);\n",
              "        }\n",
              "      </script>\n",
              "    </div>\n",
              "  </div>\n",
              "  "
            ]
          },
          "metadata": {},
          "execution_count": 7
        }
      ]
    },
    {
      "cell_type": "markdown",
      "source": [
        "#### 4. Explain what is meant by the following, using examples from the language corpora you have chosen:\n",
        "*   Tokenization of sentences\n",
        "*   Lemmatization of sentences and words\n",
        "*   Morphology\n",
        "*   Stemming and affix removal of words\n",
        "\n",
        "\n",
        "\n"
      ],
      "metadata": {
        "id": "k4awUsNr7O5m"
      }
    },
    {
      "cell_type": "markdown",
      "source": [
        "**Tokenization of sentences**"
      ],
      "metadata": {
        "id": "6aK88YVwsC5L"
      }
    },
    {
      "cell_type": "markdown",
      "source": [
        "Sentence tokenization is a part of the text normalisation process, that seperates a sentence into a list of distinct tokens. A token is a distinct character or grouping of characters such as words, digits or symbols eg. punctuation. The set of tokens in a sentence makes up that sentences vocabulary. For example the sentence, \"Hello, where's my hat? My hat has dissappeared!\" can be seperated into 12 distinct tokens. Each word counts as a token, with hat only appearing in the list of tokens once despite appearing twice. The punctuation, \",\", \".\", \"?\" and \"!\" are also considered tokens. The contraction \"where's\" will be split into two tokens: \"where\" and \"'s\". Spaces, returns or new line characters are not included in the list of tokens.\n",
        "\n",
        "Take the first sentence in our reviews dataset: \n",
        "\n",
        "`'Totally in love with the Auro of the place, really beautiful and quite fancy at the same time. The ambience is very pure and gives a sense of positivity throughout. Outdoor and indoor interior are quite quaint and cute. Love the open kitchen idea and there whole marketplace ideology. Due to coronovirus they specifically use disposable cutlery to keep the pandemic in mind taking all the precautionary measures from the beginning of the place with the mask on their staff and using good sanitisation. The food is really amazing specially the pizza straight from the oven and the hummus and pita bread are quite delicious too. If you're looking for a classy yet soothing Italian place in Delhi,Fatjar is a go to for you!'`\n",
        "\n",
        "This can be tokenized as the following:"
      ],
      "metadata": {
        "id": "HxsbcRWaUFfT"
      }
    },
    {
      "cell_type": "code",
      "source": [
        "print(reviews['tokens_normal'][0])"
      ],
      "metadata": {
        "colab": {
          "base_uri": "https://localhost:8080/"
        },
        "id": "Zss1ZZqzU6QA",
        "outputId": "5eaabd23-59c7-451d-99cd-0db8bad7541e"
      },
      "execution_count": 109,
      "outputs": [
        {
          "output_type": "stream",
          "name": "stdout",
          "text": [
            "['totally', 'in', 'love', 'with', 'the', 'auro', 'of', 'the', 'place', ',', 'really', 'beautiful', 'and', 'quite', 'fancy', 'at', 'the', 'same', 'time', '.', 'the', 'ambience', 'is', 'very', 'pure', 'and', 'gives', 'a', 'sense', 'of', 'positivity', 'throughout', '.', 'outdoor', 'and', 'indoor', 'interior', 'are', 'quite', 'quaint', 'and', 'cute', '.', 'love', 'the', 'open', 'kitchen', 'idea', 'and', 'there', 'whole', 'marketplace', 'ideology', '.', 'due', 'to', 'coronovirus', 'they', 'specifically', 'use', 'disposable', 'cutlery', 'to', 'keep', 'the', 'pandemic', 'in', 'mind', 'taking', 'all', 'the', 'precautionary', 'measures', 'from', 'the', 'beginning', 'of', 'the', 'place', 'with', 'the', 'mask', 'on', 'their', 'staff', 'and', 'using', 'good', 'sanitisation', '.', 'the', 'food', 'is', 'really', 'amazing', 'specially', 'the', 'pizza', 'straight', 'from', 'the', 'oven', 'and', 'the', 'hummus', 'and', 'pita', 'bread', 'are', 'quite', 'delicious', 'too', '.', 'if', 'you', \"'re\", 'looking', 'for', 'a', 'classy', 'yet', 'soothing', 'italian', 'place', 'in', 'delhi', ',', 'fatjar', 'is', 'a', 'go', 'to', 'for', 'you', '!']\n"
          ]
        }
      ]
    },
    {
      "cell_type": "markdown",
      "source": [
        "**Lemmatization**"
      ],
      "metadata": {
        "id": "FKlHlJzrsMCw"
      }
    },
    {
      "cell_type": "markdown",
      "source": [
        "A further way of normalising text data is through lemmatization. Lemmatization involves reducing words to their base etymological form as found in the dictionary. For example: \n",
        "*   'See', 'saw', 'seeing' would be lemmatised to 'see'\n",
        "*   'Box', 'boxes', 'box's' would be lemmatised to 'box'\n",
        "*   'Happier', 'happiest', 'happy' would be lemmatised to 'happy'\n",
        "\n",
        "\n",
        "This allows for words that are derived from the same root to be considered the same word. Thus, 'see', 'saw' and 'seeing' would all be counted as instances of the same token 'see'. \n",
        "\n",
        "We can lemmatise tokens using the WordNetLemmatizer object from NLTK. The first review in the dataset is transformed into a list of lemmas below. "
      ],
      "metadata": {
        "id": "6Gw9vtEIUGTq"
      }
    },
    {
      "cell_type": "code",
      "source": [
        "lemmatizer = WordNetLemmatizer()\n",
        "lem_sent = [lemmatizer.lemmatize(words_sent) for words_sent in reviews['tokens_normal'][0]]\n",
        "print(lem_sent)"
      ],
      "metadata": {
        "id": "0dRdL33XVgeY"
      },
      "execution_count": null,
      "outputs": []
    },
    {
      "cell_type": "markdown",
      "source": [
        "We can see that 'gives' has been replaced with the root word 'give'and 'measures' has likewise been replaced with 'measure'."
      ],
      "metadata": {
        "id": "vU7OoKwGuVX6"
      }
    },
    {
      "cell_type": "code",
      "source": [
        "set(reviews.tokens_normal[0]) ^ set(lem_sent)"
      ],
      "metadata": {
        "id": "ktjxS4Vc12su"
      },
      "execution_count": null,
      "outputs": []
    },
    {
      "cell_type": "markdown",
      "source": [
        "**Morphology**"
      ],
      "metadata": {
        "id": "dGHkPevDsPFw"
      }
    },
    {
      "cell_type": "markdown",
      "source": [
        "According to Jurafsky and Martin (2023), \"morphology is the study of the way words are built up from smaller meaning-bearing units called morphenes\". In NLP the two types of morphenes are 'stems' and 'affixes'. An affix is the ending of the word, such as -ing, -ly, -s, -y. For example, the afix of the word 'beautiful' is 'ful', and the stem is 'beauti'. The stem proceeds the affix and is where you can find the general meaning of the word, whereas the affix denotes an attribute of that meaning. \n",
        "\n",
        "For example, 'walking' and 'walked' share the stem 'walk', but the affix 'ing' denotes walk in the present tense versus the affix 'ed' denotes walk in the past tense. The stem is not equivalent to the root word, however. Indeed, the stem is not intended to be a word at all (see 'beauti'), merely one part. "
      ],
      "metadata": {
        "id": "LuXUysShXSNo"
      }
    },
    {
      "cell_type": "markdown",
      "source": [
        "**Stemming**"
      ],
      "metadata": {
        "id": "AZ1MtcXlsRua"
      }
    },
    {
      "cell_type": "markdown",
      "source": [
        "Stemming, on a similar vein to lemmatization, acts as a way of grouping words derived from the same word together. However, whilst lemmatization replaces the word with its etymological base, stemming follows a more simplistic approach by acting as a morphological parser and replacing the word with its stem (Jurafsky and Martin, 2023). \n",
        "\n",
        "We can perform stemming with the PorterStemmer object from NLTK (Bird, Klien and Loper, 2009). The first review in the dataset is transformed into a list of stems below. \n",
        "\n"
      ],
      "metadata": {
        "id": "khinpkBqUGcO"
      }
    },
    {
      "cell_type": "code",
      "source": [
        "ps = PorterStemmer()\n",
        "ps_stem_sent = [ps.stem(words_sent) for words_sent in reviews['tokens_normal'][0]]\n",
        "print(ps_stem_sent)"
      ],
      "metadata": {
        "id": "4LkdDO1zVeuL"
      },
      "execution_count": null,
      "outputs": []
    },
    {
      "cell_type": "markdown",
      "source": [
        "For example, 'totally' has been replaced by PorterStemmer with 'total' and 'beautiful' has become 'beauti' and so forth. If the word 'beauty' appears later in the text it can be grouped together with 'beautiful' as they share the same stem: 'beauti'. \n",
        "\n",
        "Porter Stemmer is only one example of a stemmer. Lancaster Stemmer and Snowball Stemmer are also available models with NLTK. Porter Stemmer is considered the most basic of the stemmers, whereas Snowball Stemmer is more agressive. Lancaster Stemmer is the most agressive and further allows for custom stemming rules to be defined (Heidenreich, 2018). "
      ],
      "metadata": {
        "id": "8HTE21eEvQ0b"
      }
    },
    {
      "cell_type": "markdown",
      "source": [
        "#### 5. Describe a general method for the construction of an NLP algorithm.\n"
      ],
      "metadata": {
        "id": "kHW1Yd4L7dKu"
      }
    },
    {
      "cell_type": "markdown",
      "source": [
        "The first step in constructing an NLP algorithm is data collection. In our case, we are downloading a dataset so the data has been collected by someone else. However, in many cases of NLP data can be mined from the internet or other sources, which would involve data collection processes such downloading the raw text, stripping any HTML markup and trimming it to capture the desired content (Bird, Klein and Loper, 2009). \n",
        "\n",
        "Following from this, one should perform feature extraction. For example, as we are not performing sentiment analysis on the Reviews dataset we do not have any need for the rating column, only the raw text from the review. This text can be normalised, cleaned and processes through a series of processing modules such as case-folding and cleaning the data, tokenization, PoS tagging, sentence segmentation and lemmatization/stemming depending on the task. This can be done via a processing pipeline. Next we must vectorize the data - this will present the reviews as a numerical vector that the machine learning algorithm is able to analyse. A model can then be trained on the vectorised data. These can often be constructed using pre-trained libraries such as NLTK.\n",
        "\n",
        "Prior to the training stage, data is split into train, dev and test subsets. The training subset is used to train the algorithm, it is assigned X and y values corresponding to the inputs and labels which are both known to the algorithm. The data can be evaluated using the developement or evaluation set where the labels are with-held and used to evaluate accuracy, perplexity, F-score etc. During this evaluation stage, hyperparameter values should be optimised and model selection should occur based on the results. Finally, the data can be deployed to the test set which acts to emulate data encountered 'in the wild' upon model completion.  \n"
      ],
      "metadata": {
        "id": "dSH-oSKUNM3v"
      }
    },
    {
      "cell_type": "markdown",
      "source": [
        "#### 6. Describe how the use of classifiers can be used to segment sentences and language corpora."
      ],
      "metadata": {
        "id": "2I8b7oI37f79"
      }
    },
    {
      "cell_type": "markdown",
      "source": [
        "Just how tokenization segments sentences into tokens, larger texts can be split into sentences using classifiers. Classifiers can be used to segment sentences using either a rule-based approach or with machine learning.\n",
        "\n",
        "Below is a rudamentary rule-based approach that splits `reviews.review_normal[0]` into sentences based solely on the presence of full-stops, exclamation marks or question marks. "
      ],
      "metadata": {
        "id": "QZs1Ai8BX8xL"
      }
    },
    {
      "cell_type": "code",
      "source": [
        "re.split(r\"[.|!|?]\", reviews.review_full[0])"
      ],
      "metadata": {
        "colab": {
          "base_uri": "https://localhost:8080/"
        },
        "id": "Sd7X9_RkBOge",
        "outputId": "03def712-42d9-4655-b6c3-24d5ecc6aca7"
      },
      "execution_count": 110,
      "outputs": [
        {
          "output_type": "execute_result",
          "data": {
            "text/plain": [
              "['Totally in love with the Auro of the place, really beautiful and quite fancy at the same time',\n",
              " ' The ambience is very pure and gives a sense of positivity throughout',\n",
              " ' Outdoor and indoor interior are quite quaint and cute',\n",
              " ' Love the open kitchen idea and there whole marketplace ideology',\n",
              " ' Due to coronovirus they specifically use disposable cutlery to keep the pandemic in mind taking all the precautionary measures from the beginning of the place with the mask on their staff and using good sanitisation',\n",
              " ' The food is really amazing specially the pizza straight from the oven and the hummus and pita bread are quite delicious too',\n",
              " \" If you're looking for a classy yet soothing Italian place in Delhi,Fatjar is a go to for you\",\n",
              " '']"
            ]
          },
          "metadata": {},
          "execution_count": 110
        }
      ]
    },
    {
      "cell_type": "markdown",
      "source": [
        "Each token is parsed into the classifier, which determines if it is the end of the sentence or not. This method classifies this based on whether the token is .!, . or ?. This method would quickly fail when encountering abbreviations, numbering or speech. This could be improved slightly by mandating that a new sentence must require said punctuation and a capital letter proceeding it. This simple approach is designed to show how a rule-based approach functions, not to be a foolproof example. Certaintly, there are more sophisticated rule-based approaches that can segment sentences with relative success. However, rule-based approaches may sometimes not be flexible enough to capture all nuances in features; they also have to be manually coded and hence defining the necessary rules can be time consuming. \n",
        "\n",
        "Alternatively, supervised machine learning classifiers can be used. A machine learning classifier is able to learn the features of sentence segmentation without a programming having to manually provide the model with any rules. The model, instead, can learn from labelled examples of segmented sentences during training."
      ],
      "metadata": {
        "id": "4a7YRTedCxXg"
      }
    },
    {
      "cell_type": "markdown",
      "source": [
        "NLTK provides an example of training a Naive Bayes classifier to perform sentence segmentation. "
      ],
      "metadata": {
        "id": "pgsI0tKCPUvq"
      }
    },
    {
      "cell_type": "code",
      "source": [
        "## Based on NLTK book examples: https://www.nltk.org/book/ch06.html\n",
        "\n",
        "def features(tokens, i):\n",
        "  return {'next-word-capitalized': tokens[i+1][0].isupper(),  \n",
        "          'prev-word': tokens[i-1].lower(),                   \n",
        "          'punct': tokens[i],                                 \n",
        "          'prev-word-is-one-char': len(tokens[i-1]) == 1}     "
      ],
      "metadata": {
        "id": "CId2ow1mGEN_"
      },
      "execution_count": 9,
      "outputs": []
    },
    {
      "cell_type": "markdown",
      "source": [
        "The Treebank NLTK Corpus is used to train the classification model. Given a list of tokens and a set of indexes denoting the sentence boundaries within the list of tokens, we can use the previously defined function to create a feature set. The feature set is a list of dictionaries for each token that detail whether the next token is capitalised, whether the previous token is lower, the token itself, and whether the previous word is one character. It can then use the training data - the boolean values in the dictionary for each sentence-ending token - to recognise a pattern and learn how a sentence boundary is defined according to these features. Finally, we test this classifier on an unseen subset of the treebank corpus and evaluate its accuracy. The classifier performs reasonably well with 93.6% accuracy. "
      ],
      "metadata": {
        "id": "Y9RLklTmP7h_"
      }
    },
    {
      "cell_type": "code",
      "source": [
        "# Sets up the treebank data\n",
        "sents = nltk.corpus.treebank_raw.sents()\n",
        "tokens = []\n",
        "boundaries = set()\n",
        "offset = 0 \n",
        "\n",
        "for sent in sents:\n",
        "  tokens.extend(sent)\n",
        "  offset += len(sent)\n",
        "  boundaries.add(offset-1)\n",
        "\n",
        "featuresets = [(features(tokens, i), (i in boundaries)) for i in range(1, len(tokens)-1) if tokens[i] in '.!?']\n",
        "size = int(len(featuresets) * 0.1)\n",
        "\n",
        "# Trains the classifier \n",
        "train_set, test_set = featuresets[size:], featuresets[:size]\n",
        "classifier = nltk.NaiveBayesClassifier.train(train_set)\n",
        "\n",
        "# Tests the classifier accuracy\n",
        "nltk.classify.accuracy(classifier, test_set)"
      ],
      "metadata": {
        "colab": {
          "base_uri": "https://localhost:8080/"
        },
        "id": "2O8uiDqVGu_J",
        "outputId": "035e85cd-d3ff-44da-c425-728eb16288f6"
      },
      "execution_count": 10,
      "outputs": [
        {
          "output_type": "execute_result",
          "data": {
            "text/plain": [
              "0.936026936026936"
            ]
          },
          "metadata": {},
          "execution_count": 10
        }
      ]
    },
    {
      "cell_type": "markdown",
      "source": [
        "We can then use this classifier to classify un-labelled data, such as our Tripadvisor Reviews dataset. Given the tokenised reviews the classifier can classify each token into sentence-ending tokens and non sentence ending tokens based on the sentence structure in the Treebank corpus. "
      ],
      "metadata": {
        "id": "3lgPBuyxSgAX"
      }
    },
    {
      "cell_type": "code",
      "source": [
        "def segment_sentences(words):\n",
        "    start = 0\n",
        "    sents = []\n",
        "    for i, word in enumerate(words):\n",
        "        if i < (len(words)-1) and word in '.?!' and classifier.classify(features(words, i)) == True:\n",
        "            sents.append(words[start:i+1])\n",
        "            start = i+1\n",
        "    if start < len(words):\n",
        "        sents.append(words[start:])\n",
        "    return sents"
      ],
      "metadata": {
        "id": "fFNJdCVeHkVV"
      },
      "execution_count": 11,
      "outputs": []
    },
    {
      "cell_type": "markdown",
      "source": [
        "I have split each tokenized review into a list of tokenized sentences, and added this to an extra column in the DataFrame. I have printed below, the first sentence of the first review, according to the Naive Bayes Classifier. "
      ],
      "metadata": {
        "id": "kgQaZQwsTK68"
      }
    },
    {
      "cell_type": "code",
      "source": [
        "reviews['sentences'] = reviews['tokens_full'].map(segment_sentences)\n",
        "print(\" \".join(reviews.sentences[0][0]))"
      ],
      "metadata": {
        "colab": {
          "base_uri": "https://localhost:8080/"
        },
        "id": "Ht3RDGfsQtMG",
        "outputId": "bc547836-3ac6-467c-d385-390b09717005"
      },
      "execution_count": 12,
      "outputs": [
        {
          "output_type": "stream",
          "name": "stdout",
          "text": [
            "Totally in love with the Auro of the place , really beautiful and quite fancy at the same time .\n"
          ]
        }
      ]
    },
    {
      "cell_type": "markdown",
      "source": [
        "Classifers can also be used to perform sequence classification. Sequence classification involves adding Part of Speech (PoS) tagging to words or combinations of words in the sentence (Bird, Klien and Loper, 2009). The PoS tag acts as a descriptor and can help reduce ambiguity in natural language by labelling tokens or series of tokens as adjectives, nouns, conjunctions, etc. Similarly to sentence segmentation a classifier can be trained to identify and tag adjectives, which can be combined with another classifier that classifies nouns and so-forth, in order to classify all parts of the sentence. "
      ],
      "metadata": {
        "id": "wkIB0I6rH3fR"
      }
    },
    {
      "cell_type": "markdown",
      "source": [
        "#### 7. Choose three different classifiers and describe the advantages and disadvantages of using them against different language corpora and in different circumstances."
      ],
      "metadata": {
        "id": "1VpCDB7U7iWp"
      }
    },
    {
      "cell_type": "markdown",
      "source": [
        "**Decision Trees** \n",
        "\n",
        "Decision Tree Classifiers are a supervised classification algorithm that represents the data as a series of decision nodes (input features) and leaf nodes (labels). It then traverses the graph to make an informed classification. Decision trees are a simple, effective and understandable algorithm. Their flow-chart like structure is especially useful for hierarchical classifaction problems. \n",
        "\n",
        "For example:\n",
        "\n",
        "```\n",
        "       (mammals)        \n",
        "       /               \n",
        "     (has fur)      \n",
        "      |     |             \n",
        "  (meows)  (howls)\n",
        "    |       |    |\n",
        "  (cat)  (dog) (wolf)\n",
        "```\n",
        "\n",
        "However, decision trees can be ineffecient. They have the potential become exponentially large due to their recursive nature, and hence, suffer from both high time and space complexity. Decision trees may also struggle where features are indiscrete, or where features are weak predictors of the correct label (Bird, Klein and Loper, 2009). \n",
        "\n",
        "**Naive Bayes**\n",
        "\n",
        "Naive Bayes is a probablistic, generative classifier. The algorithm models a data representation for each class in order to learn its defining features. When encountering new data, it attempts to determine which class is most likely to have generated the data and makes a classification based on the class with the highest attributed probability or 'votes' (Bird, Klein and Loper, 2009). It models probability based on Bayes' rule such that:\n",
        "\n",
        "$P(Class|document) = \\frac{P(document|Class)P(Class)}{P(document)}$\n",
        "\n",
        "Naive Bayes also assumes that features are independ of each other - although this is not always the case! This can lead to over-counting and over-emphasis on certain features, especially with large datasets. Hence, logistic regression can be too simplistic to model real-life relations between data. Despite this, Naive Bayes still works well on smaller datasets, and is fast to train (Jurafsky and Martin, 2023); it works well on supervised binary classification, but can be extended to MultinomalNB for supervised multi-class problems.\n",
        "\n",
        "**Logistic Regression** \n",
        "\n",
        "Logistic Regression is another probabalistic supervised classifier, however, whilst Naive Bayes is generative, logistic regression is discrimative. This means that logistic regression models how to distinguish between classes, it is primarily concerned with what a class is not - rather than its holistic features. Logistic Regression passes the feature representation through the sigmoid function to produce a normalised value, and then determines a probablistic threshold or decision boundary to differientiate between classes. For example, if P > 0.5 then the class is 1, elsewise the class is 0. \n",
        "\n",
        "Logistic Regression is superior to Naive Bayes in many ways, namely by being more robust to non-independent features, by assigning part of the weight to each correlated feature (Jurafsky and Martin, 2023). However, logistic regression is slower to train and use, and requires an optimisation step - usually using Stochastic Gradient Descent - to achieve accurate results. \n",
        "\n",
        "\n"
      ],
      "metadata": {
        "id": "YOD1gXsbjxoT"
      }
    },
    {
      "cell_type": "markdown",
      "source": [
        "#### 8. Describe the concept of a processing pipeline."
      ],
      "metadata": {
        "id": "i5QhCtRj7l-t"
      }
    },
    {
      "cell_type": "markdown",
      "source": [
        "In computer science, a processing pipeline is a series of data processes that perform in tandem, where the output of the previous process is the input for the next. Usually these processes are executed parallelly, before being fed into the rest of the model. For an NLP application the pipeline can usually be defined as:\n",
        "\n",
        "*Text normalisation ⇒ Cleaned dataset ⇒ The rest of the model, e.g. Model training, Model testing and analysis* \n",
        "\n",
        "Think of a pipeline, like a assembly line in a factory or even a carwash - the raw data is inputted and traverses along a computational conveyorbelt until it is ready to be fed into the larger model. The first stage of this pipeline is the processing stage, before model training and evaluation. Text normalision often involves numerous processes depending on the task. These processes are formulated as modules that our data is parsed through, transformed and then moved onto the next module. An example of this pipeline could be:\n",
        "\n",
        "*Tokenization ⇒ Sentence Segmentation ⇒ Case-Folding ⇒ Punctuation Removal ⇒ PoS Tagging, Stemming, Lemmatization ⇒ Vectorization * \n",
        "\n",
        "Finally, this cleaned data can be fed into the model."
      ],
      "metadata": {
        "id": "l5T1I2MZXpMz"
      }
    },
    {
      "cell_type": "markdown",
      "source": [
        "#### 9. How would you use your language corpora to train a learning algorithm to perform natural language processing?"
      ],
      "metadata": {
        "id": "jPTs2UUp4xBq"
      }
    },
    {
      "cell_type": "markdown",
      "source": [
        "The Tripadvisor Reviews 2023 dataset contains reviews written in natural language and an associated rating. There are five classes of rating numbering from 0 (the most negative) to 5 (the most positive). An ideal use of this language corpora would be to train a Machine Learning algorithm to perform Sentiment Analysis. Sentiment anlysis is a NLP classification task in which a machine learning model is trained to classify reviews into a number of classes that correspond to sentiments.\n",
        "\n",
        "After normalising the data, the data must be split into test and train sets (this can be done using Sckit-learn). The next step in this process would be to perform text vectorization on the reviews column using a vectorizer such as `CountVectorizer` or `TfidfVectorizer`. These vectorizers represent each review or sentence as a sparse vector of 1s and 0s depending on which tokens are present and how many times they occur. These can be used with variety of n_grams lengths. Count Vectorizer shows counts how many times each word type (or n-gram) occurs, whereas Tf-IDF displays its Tf-IDF score. The resulting 'Bag of Words' which is used to train a classifier, such as `MultinomialNB`. \n",
        "\n",
        "The machine learning classifier will be fitted to the training data, using the bag of words as the features and the ratings column of the dataset as the labels. The classifier can be used to predict the labels of the test data, and these predictions can be compared to the actual labels in order to calculate an accuracy score, as well as precision-recall. During model evaluation, different methods can be compared and contrasted tol achieve a optimal model. \n",
        "\n",
        "Since this dataset contains 5 classes, if we aim to use a binary classifier we will need to redefine the classes into 0 (negative) and 1 (positive). For example, reviews of rating 3, 4 and 5 could be reclassified as positive, and reviews of rating 0, 1 and 2 could be classified as negative. However, it is also possible to perform multi-class classification using multi class classification models such as `k-Nearest Neighbors` or Decision Trees, amongst others. \n"
      ],
      "metadata": {
        "id": "c-qi46huU5wm"
      }
    },
    {
      "cell_type": "markdown",
      "source": [
        "#### 10. Use both Markov models and Bayesian classification to model the probabilities of words co-occurring in your language corpora."
      ],
      "metadata": {
        "id": "QX88x13u47iJ"
      }
    },
    {
      "cell_type": "markdown",
      "source": [
        "Due to having only 12.7GB RAM available I have chosen to work only with a subset of the Tripadvisor Reviews 2023 data. "
      ],
      "metadata": {
        "id": "8XajTlE6nE-z"
      }
    },
    {
      "cell_type": "code",
      "source": [
        "# Used if you want to limit the size of the dataset\n",
        "data = reviews.head(5000)"
      ],
      "metadata": {
        "id": "c8OpaJXJcV3_"
      },
      "execution_count": 13,
      "outputs": []
    },
    {
      "cell_type": "markdown",
      "source": [
        "In order to model the probabilitieis of words co-occurring in this subset of the data, I create a co-occurance matrix manually. "
      ],
      "metadata": {
        "id": "CLYw79kYxLKK"
      }
    },
    {
      "cell_type": "code",
      "source": [
        "# Defines the vocabulary\n",
        "vocabulary = set(data['tokens_normal'].sum())"
      ],
      "metadata": {
        "id": "BZ9mH0txkfEO"
      },
      "execution_count": 14,
      "outputs": []
    },
    {
      "cell_type": "markdown",
      "source": [
        "I create the co-occurance matrix by looking at all of the bigrams in the data. The matrix shows the counts for how many times each unique token was followed by each unique token. For example the word 'cranberry' proceeded the word 'cranberry' zero times, as the bigram 'cranberry cranberry' does not appear in the data. "
      ],
      "metadata": {
        "id": "2951xhN1xnl2"
      }
    },
    {
      "cell_type": "code",
      "source": [
        "# Creates an empty df with the vocabulary as the rows and columns\n",
        "df = pd.DataFrame(0, columns=list(vocabulary), index=list(vocabulary))\n",
        "\n",
        "# Counts co-occurances\n",
        "for review in data[\"tokens_normal\"]:\n",
        "  for word1, word2 in itertools.pairwise(review):\n",
        "    df[word1][word2] += 1\n",
        "\n",
        "# Displays the df\n",
        "df"
      ],
      "metadata": {
        "colab": {
          "base_uri": "https://localhost:8080/",
          "height": 424
        },
        "id": "Sgzvay5QxChb",
        "outputId": "4ccce402-705d-4e3e-b419-d6f52e115e9c"
      },
      "execution_count": 12,
      "outputs": [
        {
          "output_type": "execute_result",
          "data": {
            "text/plain": [
              "               cranberry  kailash  kill  utkatsh  bug  touches  responsive  \\\n",
              "cranberry              0        0     0        0    0        0           0   \n",
              "kailash                0        0     0        0    0        0           0   \n",
              "kill                   0        0     0        0    0        0           0   \n",
              "utkatsh                0        0     0        0    0        0           0   \n",
              "bug                    0        0     0        0    0        0           0   \n",
              "...                  ...      ...   ...      ...  ...      ...         ...   \n",
              "drool                  0        0     0        0    0        0           0   \n",
              "opbject                0        0     0        0    0        0           0   \n",
              "mocktail               1        0     0        0    0        0           0   \n",
              "harissa                0        0     0        0    0        0           0   \n",
              "super-special          0        0     0        0    0        0           0   \n",
              "\n",
              "               savanna  /excllent  hey  ...  soy  hippy  gilt  lunch  cig  \\\n",
              "cranberry            0          0    0  ...    0      0     0      0    0   \n",
              "kailash              0          0    0  ...    0      0     0      0    0   \n",
              "kill                 0          0    0  ...    0      0     0      0    0   \n",
              "utkatsh              0          0    0  ...    0      0     0      0    0   \n",
              "bug                  0          0    0  ...    0      0     0      0    0   \n",
              "...                ...        ...  ...  ...  ...    ...   ...    ...  ...   \n",
              "drool                0          0    0  ...    0      0     0      0    0   \n",
              "opbject              0          0    0  ...    0      0     0      0    0   \n",
              "mocktail             0          0    0  ...    0      0     0      0    0   \n",
              "harissa              0          0    0  ...    0      0     0      0    0   \n",
              "super-special        0          0    0  ...    0      0     0      0    0   \n",
              "\n",
              "               drool  opbject  mocktail  harissa  super-special  \n",
              "cranberry          0        0         0        0              0  \n",
              "kailash            0        0         0        0              0  \n",
              "kill               0        0         0        0              0  \n",
              "utkatsh            0        0         0        0              0  \n",
              "bug                0        0         0        0              0  \n",
              "...              ...      ...       ...      ...            ...  \n",
              "drool              0        0         0        0              0  \n",
              "opbject            0        0         0        0              0  \n",
              "mocktail           0        0         0        0              0  \n",
              "harissa            0        0         0        0              0  \n",
              "super-special      0        0         0        0              0  \n",
              "\n",
              "[14742 rows x 14742 columns]"
            ],
            "text/html": [
              "\n",
              "  <div id=\"df-acae3ba3-b9fb-4b35-8f23-9f6765e7dafa\">\n",
              "    <div class=\"colab-df-container\">\n",
              "      <div>\n",
              "<style scoped>\n",
              "    .dataframe tbody tr th:only-of-type {\n",
              "        vertical-align: middle;\n",
              "    }\n",
              "\n",
              "    .dataframe tbody tr th {\n",
              "        vertical-align: top;\n",
              "    }\n",
              "\n",
              "    .dataframe thead th {\n",
              "        text-align: right;\n",
              "    }\n",
              "</style>\n",
              "<table border=\"1\" class=\"dataframe\">\n",
              "  <thead>\n",
              "    <tr style=\"text-align: right;\">\n",
              "      <th></th>\n",
              "      <th>cranberry</th>\n",
              "      <th>kailash</th>\n",
              "      <th>kill</th>\n",
              "      <th>utkatsh</th>\n",
              "      <th>bug</th>\n",
              "      <th>touches</th>\n",
              "      <th>responsive</th>\n",
              "      <th>savanna</th>\n",
              "      <th>/excllent</th>\n",
              "      <th>hey</th>\n",
              "      <th>...</th>\n",
              "      <th>soy</th>\n",
              "      <th>hippy</th>\n",
              "      <th>gilt</th>\n",
              "      <th>lunch</th>\n",
              "      <th>cig</th>\n",
              "      <th>drool</th>\n",
              "      <th>opbject</th>\n",
              "      <th>mocktail</th>\n",
              "      <th>harissa</th>\n",
              "      <th>super-special</th>\n",
              "    </tr>\n",
              "  </thead>\n",
              "  <tbody>\n",
              "    <tr>\n",
              "      <th>cranberry</th>\n",
              "      <td>0</td>\n",
              "      <td>0</td>\n",
              "      <td>0</td>\n",
              "      <td>0</td>\n",
              "      <td>0</td>\n",
              "      <td>0</td>\n",
              "      <td>0</td>\n",
              "      <td>0</td>\n",
              "      <td>0</td>\n",
              "      <td>0</td>\n",
              "      <td>...</td>\n",
              "      <td>0</td>\n",
              "      <td>0</td>\n",
              "      <td>0</td>\n",
              "      <td>0</td>\n",
              "      <td>0</td>\n",
              "      <td>0</td>\n",
              "      <td>0</td>\n",
              "      <td>0</td>\n",
              "      <td>0</td>\n",
              "      <td>0</td>\n",
              "    </tr>\n",
              "    <tr>\n",
              "      <th>kailash</th>\n",
              "      <td>0</td>\n",
              "      <td>0</td>\n",
              "      <td>0</td>\n",
              "      <td>0</td>\n",
              "      <td>0</td>\n",
              "      <td>0</td>\n",
              "      <td>0</td>\n",
              "      <td>0</td>\n",
              "      <td>0</td>\n",
              "      <td>0</td>\n",
              "      <td>...</td>\n",
              "      <td>0</td>\n",
              "      <td>0</td>\n",
              "      <td>0</td>\n",
              "      <td>0</td>\n",
              "      <td>0</td>\n",
              "      <td>0</td>\n",
              "      <td>0</td>\n",
              "      <td>0</td>\n",
              "      <td>0</td>\n",
              "      <td>0</td>\n",
              "    </tr>\n",
              "    <tr>\n",
              "      <th>kill</th>\n",
              "      <td>0</td>\n",
              "      <td>0</td>\n",
              "      <td>0</td>\n",
              "      <td>0</td>\n",
              "      <td>0</td>\n",
              "      <td>0</td>\n",
              "      <td>0</td>\n",
              "      <td>0</td>\n",
              "      <td>0</td>\n",
              "      <td>0</td>\n",
              "      <td>...</td>\n",
              "      <td>0</td>\n",
              "      <td>0</td>\n",
              "      <td>0</td>\n",
              "      <td>0</td>\n",
              "      <td>0</td>\n",
              "      <td>0</td>\n",
              "      <td>0</td>\n",
              "      <td>0</td>\n",
              "      <td>0</td>\n",
              "      <td>0</td>\n",
              "    </tr>\n",
              "    <tr>\n",
              "      <th>utkatsh</th>\n",
              "      <td>0</td>\n",
              "      <td>0</td>\n",
              "      <td>0</td>\n",
              "      <td>0</td>\n",
              "      <td>0</td>\n",
              "      <td>0</td>\n",
              "      <td>0</td>\n",
              "      <td>0</td>\n",
              "      <td>0</td>\n",
              "      <td>0</td>\n",
              "      <td>...</td>\n",
              "      <td>0</td>\n",
              "      <td>0</td>\n",
              "      <td>0</td>\n",
              "      <td>0</td>\n",
              "      <td>0</td>\n",
              "      <td>0</td>\n",
              "      <td>0</td>\n",
              "      <td>0</td>\n",
              "      <td>0</td>\n",
              "      <td>0</td>\n",
              "    </tr>\n",
              "    <tr>\n",
              "      <th>bug</th>\n",
              "      <td>0</td>\n",
              "      <td>0</td>\n",
              "      <td>0</td>\n",
              "      <td>0</td>\n",
              "      <td>0</td>\n",
              "      <td>0</td>\n",
              "      <td>0</td>\n",
              "      <td>0</td>\n",
              "      <td>0</td>\n",
              "      <td>0</td>\n",
              "      <td>...</td>\n",
              "      <td>0</td>\n",
              "      <td>0</td>\n",
              "      <td>0</td>\n",
              "      <td>0</td>\n",
              "      <td>0</td>\n",
              "      <td>0</td>\n",
              "      <td>0</td>\n",
              "      <td>0</td>\n",
              "      <td>0</td>\n",
              "      <td>0</td>\n",
              "    </tr>\n",
              "    <tr>\n",
              "      <th>...</th>\n",
              "      <td>...</td>\n",
              "      <td>...</td>\n",
              "      <td>...</td>\n",
              "      <td>...</td>\n",
              "      <td>...</td>\n",
              "      <td>...</td>\n",
              "      <td>...</td>\n",
              "      <td>...</td>\n",
              "      <td>...</td>\n",
              "      <td>...</td>\n",
              "      <td>...</td>\n",
              "      <td>...</td>\n",
              "      <td>...</td>\n",
              "      <td>...</td>\n",
              "      <td>...</td>\n",
              "      <td>...</td>\n",
              "      <td>...</td>\n",
              "      <td>...</td>\n",
              "      <td>...</td>\n",
              "      <td>...</td>\n",
              "      <td>...</td>\n",
              "    </tr>\n",
              "    <tr>\n",
              "      <th>drool</th>\n",
              "      <td>0</td>\n",
              "      <td>0</td>\n",
              "      <td>0</td>\n",
              "      <td>0</td>\n",
              "      <td>0</td>\n",
              "      <td>0</td>\n",
              "      <td>0</td>\n",
              "      <td>0</td>\n",
              "      <td>0</td>\n",
              "      <td>0</td>\n",
              "      <td>...</td>\n",
              "      <td>0</td>\n",
              "      <td>0</td>\n",
              "      <td>0</td>\n",
              "      <td>0</td>\n",
              "      <td>0</td>\n",
              "      <td>0</td>\n",
              "      <td>0</td>\n",
              "      <td>0</td>\n",
              "      <td>0</td>\n",
              "      <td>0</td>\n",
              "    </tr>\n",
              "    <tr>\n",
              "      <th>opbject</th>\n",
              "      <td>0</td>\n",
              "      <td>0</td>\n",
              "      <td>0</td>\n",
              "      <td>0</td>\n",
              "      <td>0</td>\n",
              "      <td>0</td>\n",
              "      <td>0</td>\n",
              "      <td>0</td>\n",
              "      <td>0</td>\n",
              "      <td>0</td>\n",
              "      <td>...</td>\n",
              "      <td>0</td>\n",
              "      <td>0</td>\n",
              "      <td>0</td>\n",
              "      <td>0</td>\n",
              "      <td>0</td>\n",
              "      <td>0</td>\n",
              "      <td>0</td>\n",
              "      <td>0</td>\n",
              "      <td>0</td>\n",
              "      <td>0</td>\n",
              "    </tr>\n",
              "    <tr>\n",
              "      <th>mocktail</th>\n",
              "      <td>1</td>\n",
              "      <td>0</td>\n",
              "      <td>0</td>\n",
              "      <td>0</td>\n",
              "      <td>0</td>\n",
              "      <td>0</td>\n",
              "      <td>0</td>\n",
              "      <td>0</td>\n",
              "      <td>0</td>\n",
              "      <td>0</td>\n",
              "      <td>...</td>\n",
              "      <td>0</td>\n",
              "      <td>0</td>\n",
              "      <td>0</td>\n",
              "      <td>0</td>\n",
              "      <td>0</td>\n",
              "      <td>0</td>\n",
              "      <td>0</td>\n",
              "      <td>0</td>\n",
              "      <td>0</td>\n",
              "      <td>0</td>\n",
              "    </tr>\n",
              "    <tr>\n",
              "      <th>harissa</th>\n",
              "      <td>0</td>\n",
              "      <td>0</td>\n",
              "      <td>0</td>\n",
              "      <td>0</td>\n",
              "      <td>0</td>\n",
              "      <td>0</td>\n",
              "      <td>0</td>\n",
              "      <td>0</td>\n",
              "      <td>0</td>\n",
              "      <td>0</td>\n",
              "      <td>...</td>\n",
              "      <td>0</td>\n",
              "      <td>0</td>\n",
              "      <td>0</td>\n",
              "      <td>0</td>\n",
              "      <td>0</td>\n",
              "      <td>0</td>\n",
              "      <td>0</td>\n",
              "      <td>0</td>\n",
              "      <td>0</td>\n",
              "      <td>0</td>\n",
              "    </tr>\n",
              "    <tr>\n",
              "      <th>super-special</th>\n",
              "      <td>0</td>\n",
              "      <td>0</td>\n",
              "      <td>0</td>\n",
              "      <td>0</td>\n",
              "      <td>0</td>\n",
              "      <td>0</td>\n",
              "      <td>0</td>\n",
              "      <td>0</td>\n",
              "      <td>0</td>\n",
              "      <td>0</td>\n",
              "      <td>...</td>\n",
              "      <td>0</td>\n",
              "      <td>0</td>\n",
              "      <td>0</td>\n",
              "      <td>0</td>\n",
              "      <td>0</td>\n",
              "      <td>0</td>\n",
              "      <td>0</td>\n",
              "      <td>0</td>\n",
              "      <td>0</td>\n",
              "      <td>0</td>\n",
              "    </tr>\n",
              "  </tbody>\n",
              "</table>\n",
              "<p>14742 rows × 14742 columns</p>\n",
              "</div>\n",
              "      <button class=\"colab-df-convert\" onclick=\"convertToInteractive('df-acae3ba3-b9fb-4b35-8f23-9f6765e7dafa')\"\n",
              "              title=\"Convert this dataframe to an interactive table.\"\n",
              "              style=\"display:none;\">\n",
              "        \n",
              "  <svg xmlns=\"http://www.w3.org/2000/svg\" height=\"24px\"viewBox=\"0 0 24 24\"\n",
              "       width=\"24px\">\n",
              "    <path d=\"M0 0h24v24H0V0z\" fill=\"none\"/>\n",
              "    <path d=\"M18.56 5.44l.94 2.06.94-2.06 2.06-.94-2.06-.94-.94-2.06-.94 2.06-2.06.94zm-11 1L8.5 8.5l.94-2.06 2.06-.94-2.06-.94L8.5 2.5l-.94 2.06-2.06.94zm10 10l.94 2.06.94-2.06 2.06-.94-2.06-.94-.94-2.06-.94 2.06-2.06.94z\"/><path d=\"M17.41 7.96l-1.37-1.37c-.4-.4-.92-.59-1.43-.59-.52 0-1.04.2-1.43.59L10.3 9.45l-7.72 7.72c-.78.78-.78 2.05 0 2.83L4 21.41c.39.39.9.59 1.41.59.51 0 1.02-.2 1.41-.59l7.78-7.78 2.81-2.81c.8-.78.8-2.07 0-2.86zM5.41 20L4 18.59l7.72-7.72 1.47 1.35L5.41 20z\"/>\n",
              "  </svg>\n",
              "      </button>\n",
              "      \n",
              "  <style>\n",
              "    .colab-df-container {\n",
              "      display:flex;\n",
              "      flex-wrap:wrap;\n",
              "      gap: 12px;\n",
              "    }\n",
              "\n",
              "    .colab-df-convert {\n",
              "      background-color: #E8F0FE;\n",
              "      border: none;\n",
              "      border-radius: 50%;\n",
              "      cursor: pointer;\n",
              "      display: none;\n",
              "      fill: #1967D2;\n",
              "      height: 32px;\n",
              "      padding: 0 0 0 0;\n",
              "      width: 32px;\n",
              "    }\n",
              "\n",
              "    .colab-df-convert:hover {\n",
              "      background-color: #E2EBFA;\n",
              "      box-shadow: 0px 1px 2px rgba(60, 64, 67, 0.3), 0px 1px 3px 1px rgba(60, 64, 67, 0.15);\n",
              "      fill: #174EA6;\n",
              "    }\n",
              "\n",
              "    [theme=dark] .colab-df-convert {\n",
              "      background-color: #3B4455;\n",
              "      fill: #D2E3FC;\n",
              "    }\n",
              "\n",
              "    [theme=dark] .colab-df-convert:hover {\n",
              "      background-color: #434B5C;\n",
              "      box-shadow: 0px 1px 3px 1px rgba(0, 0, 0, 0.15);\n",
              "      filter: drop-shadow(0px 1px 2px rgba(0, 0, 0, 0.3));\n",
              "      fill: #FFFFFF;\n",
              "    }\n",
              "  </style>\n",
              "\n",
              "      <script>\n",
              "        const buttonEl =\n",
              "          document.querySelector('#df-acae3ba3-b9fb-4b35-8f23-9f6765e7dafa button.colab-df-convert');\n",
              "        buttonEl.style.display =\n",
              "          google.colab.kernel.accessAllowed ? 'block' : 'none';\n",
              "\n",
              "        async function convertToInteractive(key) {\n",
              "          const element = document.querySelector('#df-acae3ba3-b9fb-4b35-8f23-9f6765e7dafa');\n",
              "          const dataTable =\n",
              "            await google.colab.kernel.invokeFunction('convertToInteractive',\n",
              "                                                     [key], {});\n",
              "          if (!dataTable) return;\n",
              "\n",
              "          const docLinkHtml = 'Like what you see? Visit the ' +\n",
              "            '<a target=\"_blank\" href=https://colab.research.google.com/notebooks/data_table.ipynb>data table notebook</a>'\n",
              "            + ' to learn more about interactive tables.';\n",
              "          element.innerHTML = '';\n",
              "          dataTable['output_type'] = 'display_data';\n",
              "          await google.colab.output.renderOutput(dataTable, element);\n",
              "          const docLink = document.createElement('div');\n",
              "          docLink.innerHTML = docLinkHtml;\n",
              "          element.appendChild(docLink);\n",
              "        }\n",
              "      </script>\n",
              "    </div>\n",
              "  </div>\n",
              "  "
            ]
          },
          "metadata": {},
          "execution_count": 12
        }
      ]
    },
    {
      "cell_type": "markdown",
      "source": [
        "We can use the co-occurance matrix. We can calculate the probability of a token occuring in the corpus is:\n",
        "\n",
        "$ P(A) = \\frac{count(A)}{N} $\n",
        "\n",
        "Where $N$ is the number of tokens.\n",
        "\n",
        "To model the probability of co-occurance, where one token occurs after another, according to Bayes' conditional probability:\n",
        "\n",
        "$ P(B|A) = \\frac{P(B, A)}{P(A)} =\\frac{count(A, B)}{count(A)} $"
      ],
      "metadata": {
        "id": "811N745SyuIB"
      }
    },
    {
      "cell_type": "code",
      "source": [
        "# Bayes probability \n",
        "def probability(x, y=None):\n",
        "  if y==None:\n",
        "    return df.loc[x].sum() / len(vocabulary)\n",
        "  if x not in vocabulary or y not in vocabulary:\n",
        "    return 0\n",
        "  else:\n",
        "    return (df[x][y] / df.loc[x].sum())"
      ],
      "metadata": {
        "id": "90G6sDProFiI"
      },
      "execution_count": 128,
      "outputs": []
    },
    {
      "cell_type": "markdown",
      "source": [
        "Hence the probability of 'we' and 'had' co-occuring is 18.6% - pretty likely! "
      ],
      "metadata": {
        "id": "IJd1uUpnzF9V"
      }
    },
    {
      "cell_type": "code",
      "source": [
        "# Computes probabilty for 'we had'\n",
        "probability('we', 'had')"
      ],
      "metadata": {
        "colab": {
          "base_uri": "https://localhost:8080/"
        },
        "id": "8bUl2mg1k6l2",
        "outputId": "d3aa4fcf-d747-4376-e9f9-f5f6228260c8"
      },
      "execution_count": 111,
      "outputs": [
        {
          "output_type": "execute_result",
          "data": {
            "text/plain": [
              "0.18584703359542531"
            ]
          },
          "metadata": {},
          "execution_count": 111
        }
      ]
    },
    {
      "cell_type": "markdown",
      "source": [
        "This can be further applied to finish sentences. To calculate the probability of the words in the sentence 'there was great service' co-occuring we apply the chain rule to Bayes conditional probability such that:\n",
        "\n",
        "$ P(A, B, C) = P(A) * P(B|A) * P(C|A, B) $\n",
        "\n",
        "\n",
        "So *P('totally, in, love) *becomes *P(totally)P(in|totally)P(love|totally, in)*. However, we can simplify this even further using the Markov model's assumption of independence. This assumes that the predicted word only depends on the prior n tokens and states that:\n",
        "\n",
        "$ P(C|A, B) = Pbigram(C|B) $\n",
        "\n",
        "Hence if we are only considering bigram probabilities *P(love|totally, in)* can be considered equivalent to *P(love|in)* and computed via the following:"
      ],
      "metadata": {
        "id": "1W9TC7EKFR8_"
      }
    },
    {
      "cell_type": "code",
      "source": [
        "probability('in','love')"
      ],
      "metadata": {
        "colab": {
          "base_uri": "https://localhost:8080/"
        },
        "id": "Rqt4ahGUOhQ0",
        "outputId": "7f3a133d-7787-4c9b-b318-84fcbf22ccae"
      },
      "execution_count": 131,
      "outputs": [
        {
          "output_type": "execute_result",
          "data": {
            "text/plain": [
              "0.00481500253421186"
            ]
          },
          "metadata": {},
          "execution_count": 131
        }
      ]
    },
    {
      "cell_type": "markdown",
      "source": [
        "And the probability of the entire sentence co-occuring in the corpus can be calculated by:"
      ],
      "metadata": {
        "id": "A99ituUhO7mT"
      }
    },
    {
      "cell_type": "code",
      "source": [
        "probability('totally') * probability('totally', 'in') * probability('in', 'love') "
      ],
      "metadata": {
        "colab": {
          "base_uri": "https://localhost:8080/"
        },
        "id": "bCvuA62KpMo2",
        "outputId": "c20b6b20-303f-44b5-97f4-fb559dfcd76d"
      },
      "execution_count": 132,
      "outputs": [
        {
          "output_type": "execute_result",
          "data": {
            "text/plain": [
              "9.79853995566109e-07"
            ]
          },
          "metadata": {},
          "execution_count": 132
        }
      ]
    },
    {
      "cell_type": "markdown",
      "source": [
        "We can also use this to classify the next word given one previous word, eg. 'great'. Our classifier can calculate the probability for each item in the vocabulary occuring after 'great' - then make a prediction based on the highest probability. In this case, this can be reduced to whichever item in the vocabulary follows 'great' the most frequently.  "
      ],
      "metadata": {
        "id": "EgRTMGtgziXD"
      }
    },
    {
      "cell_type": "code",
      "source": [
        "# Classifies the next word\n",
        "def predict_next(word1):\n",
        "    return df[word1].idxmax()\n",
        "\n",
        "predict_next(\"great\")"
      ],
      "metadata": {
        "colab": {
          "base_uri": "https://localhost:8080/",
          "height": 35
        },
        "id": "Tki84rCUyY6I",
        "outputId": "09230006-2004-4d18-d3b6-9f40c1274527"
      },
      "execution_count": 133,
      "outputs": [
        {
          "output_type": "execute_result",
          "data": {
            "text/plain": [
              "'service'"
            ],
            "application/vnd.google.colaboratory.intrinsic+json": {
              "type": "string"
            }
          },
          "metadata": {},
          "execution_count": 133
        }
      ]
    },
    {
      "cell_type": "markdown",
      "source": [
        "#### 11. Illustrate the above exercise with calculations of probabilities for a range of n- grams of different lengths.\n"
      ],
      "metadata": {
        "id": "BDe72Pe_5AgN"
      }
    },
    {
      "cell_type": "markdown",
      "source": [
        "We can use NLTK's MLE (Maximum Likelihood Estimator) a probalistic language model to compute different n-gram probabilities for us. I will consider n-grams of both length 3 and 4."
      ],
      "metadata": {
        "id": "X6TLi7smpH2t"
      }
    },
    {
      "cell_type": "code",
      "source": [
        "# Formats the tokenized reviews as a list\n",
        "tokens_split = data['tokens_normal'].values.tolist()"
      ],
      "metadata": {
        "id": "6zDVwE0Otpb8"
      },
      "execution_count": 15,
      "outputs": []
    },
    {
      "cell_type": "markdown",
      "source": [
        "Below, I use MLE to create a trigram model. "
      ],
      "metadata": {
        "id": "5SzL2xevTXR0"
      }
    },
    {
      "cell_type": "code",
      "source": [
        "# 3-gram model\n",
        "n = 3\n",
        "\n",
        "# Provides the training data and vocab, adds <s> to indicate the start of a sentence to data as well as <UNK>.\n",
        "train, vocab = padded_everygram_pipeline(n, tokens_split)\n",
        "\n",
        "# Creates and trains MLE model\n",
        "tri_model = MLE(n)\n",
        "tri_model.fit(train, vocab)\n",
        "\n",
        "print(tri_model.vocab)\n",
        "print(tri_model.counts)"
      ],
      "metadata": {
        "colab": {
          "base_uri": "https://localhost:8080/"
        },
        "id": "bebh4SbjPML3",
        "outputId": "e4e311fe-256e-4aea-cb4d-96cb5381cf41"
      },
      "execution_count": 16,
      "outputs": [
        {
          "output_type": "stream",
          "name": "stdout",
          "text": [
            "<Vocabulary with cutoff=1 unk_label='<UNK>' and 14745 items>\n",
            "<NgramCounter with 3 ngram orders and 1095498 ngrams>\n"
          ]
        }
      ]
    },
    {
      "cell_type": "code",
      "source": [
        "# Prints the probabilities for different length n-grams\n",
        "print(tri_model.score('with', ['love']))\n",
        "print(tri_model.score('with', ['in', 'love']))\n",
        "print(tri_model.score('with', ['totally', 'in', 'love']))"
      ],
      "metadata": {
        "colab": {
          "base_uri": "https://localhost:8080/"
        },
        "id": "gCW-7tTVcXc-",
        "outputId": "a9317182-3f8d-42d6-9b0b-3416007db53c"
      },
      "execution_count": 134,
      "outputs": [
        {
          "output_type": "stream",
          "name": "stdout",
          "text": [
            "0.05341246290801187\n",
            "0.9473684210526315\n",
            "0\n"
          ]
        }
      ]
    },
    {
      "cell_type": "markdown",
      "source": [
        "Naturally, at its maximum the trigram model can only the final word of trigrams. Hence, the value for `tri_model.score('with', ['totally', 'in', 'love'])` is 0. The four-gram model below is able to make classifications up to 4-grams, and so forth. However, notice that as the order of ngrams increases so does the number of total ngrams computed."
      ],
      "metadata": {
        "id": "C9P3U7V6U74r"
      }
    },
    {
      "cell_type": "code",
      "source": [
        "# 4-gram model\n",
        "n = 4\n",
        "\n",
        "train, vocab = padded_everygram_pipeline(n, tokens_split)\n",
        "quad_model = MLE(n)\n",
        "quad_model.fit(train, vocab)\n",
        "\n",
        "print(quad_model.vocab)\n",
        "print(quad_model.counts)"
      ],
      "metadata": {
        "colab": {
          "base_uri": "https://localhost:8080/"
        },
        "id": "5dwi78Z6P-ed",
        "outputId": "91c5b9a9-8ec5-4877-922b-9a53241abc18"
      },
      "execution_count": 99,
      "outputs": [
        {
          "output_type": "stream",
          "name": "stdout",
          "text": [
            "<Vocabulary with cutoff=1 unk_label='<UNK>' and 14745 items>\n",
            "<NgramCounter with 4 ngram orders and 1490664 ngrams>\n"
          ]
        }
      ]
    },
    {
      "cell_type": "code",
      "source": [
        "# Prints the probabilities for different length n-grams\n",
        "print(quad_model.score('with', ['love']))\n",
        "print(quad_model.score('with', ['in', 'love']))\n",
        "print(quad_model.score('with', ['totally', 'in', 'love']))"
      ],
      "metadata": {
        "colab": {
          "base_uri": "https://localhost:8080/"
        },
        "id": "Nh5h-OA_UCXP",
        "outputId": "a3b4c141-7e03-4251-a91e-16c98e73729d"
      },
      "execution_count": 75,
      "outputs": [
        {
          "output_type": "stream",
          "name": "stdout",
          "text": [
            "0.05341246290801187\n",
            "0.9473684210526315\n",
            "1.0\n"
          ]
        }
      ]
    },
    {
      "cell_type": "markdown",
      "source": [
        "MLE can also be used to generate sentences based on probabilites. "
      ],
      "metadata": {
        "id": "QYIDnh9wWviG"
      }
    },
    {
      "cell_type": "code",
      "source": [
        "# Trigram model\n",
        "\n",
        "\" \".join(tri_model.generate(15))"
      ],
      "metadata": {
        "colab": {
          "base_uri": "https://localhost:8080/",
          "height": 35
        },
        "id": "uhM_mdlxQowH",
        "outputId": "fd2d8dec-a068-4810-c947-50c303a9befd"
      },
      "execution_count": 85,
      "outputs": [
        {
          "output_type": "execute_result",
          "data": {
            "text/plain": [
              "'and you could sit outside and later many times and thus you have a chilled'"
            ],
            "application/vnd.google.colaboratory.intrinsic+json": {
              "type": "string"
            }
          },
          "metadata": {},
          "execution_count": 85
        }
      ]
    },
    {
      "cell_type": "code",
      "source": [
        "# 4-gram model\n",
        "\n",
        "\" \".join(quad_model.generate(15))"
      ],
      "metadata": {
        "colab": {
          "base_uri": "https://localhost:8080/",
          "height": 35
        },
        "id": "C11gmUnaW3RI",
        "outputId": "857d952e-78d4-45c8-a757-263de0812976"
      },
      "execution_count": 104,
      "outputs": [
        {
          "output_type": "execute_result",
          "data": {
            "text/plain": [
              "'available in good variety . good quality food . the hotel restaurant was exceptional ,'"
            ],
            "application/vnd.google.colaboratory.intrinsic+json": {
              "type": "string"
            }
          },
          "metadata": {},
          "execution_count": 104
        }
      ]
    },
    {
      "cell_type": "markdown",
      "source": [
        "#### 12. Use probability smoothing techniques to try and refine your results.\n",
        "\n"
      ],
      "metadata": {
        "id": "Lz-_yBA15tBN"
      }
    },
    {
      "cell_type": "markdown",
      "source": [
        "Notice how despite using the 4-gram model, the value of `quad_model.score('service', ['there', 'was', 'great'])` is 0. This is because the 4-gram 'there was great service' does not appear in the training corpus. "
      ],
      "metadata": {
        "id": "uiqJpvBpYhiB"
      }
    },
    {
      "cell_type": "code",
      "source": [
        "print(quad_model.score('service', ['great']))\n",
        "print(quad_model.score('service', ['was', 'great']))\n",
        "print(quad_model.score('service', ['there', 'was', 'great']))"
      ],
      "metadata": {
        "colab": {
          "base_uri": "https://localhost:8080/"
        },
        "id": "eHCR6IstUvaj",
        "outputId": "920dfc04-a935-4ab7-8846-93f3eff3985e"
      },
      "execution_count": 136,
      "outputs": [
        {
          "output_type": "stream",
          "name": "stdout",
          "text": [
            "0.08987603305785125\n",
            "0.005050505050505051\n",
            "0\n"
          ]
        }
      ]
    },
    {
      "cell_type": "markdown",
      "source": [
        "Laplace smoothing, is a probability smoothing technique that adds 1 to each count in the DataFrame. It helps the model deal with words that do not appear in the training corpus in order to stop probabilities from \"zero-ing out\". In the previous questions, we have used:\n",
        "\n",
        "$ P(w_i) = \\frac{count(w_i)}{N} $\n",
        "\n",
        "Where $N$ is the number of tokens. However, with added Laplace smoothing, the probability of a word co-occuring becomes:\n",
        "\n",
        "$ P(w_i) = \\frac{count(w_i)+1}{N + |V|}$\n",
        "\n",
        "Where $|V|$ is the size of the vocabularly. "
      ],
      "metadata": {
        "id": "8I53i5CU7lFj"
      }
    },
    {
      "cell_type": "code",
      "source": [
        "# Creates the MLE model with Laplace smoothing and prints the vocab and counts\n",
        "train, vocab = padded_everygram_pipeline(n, tokens_split)\n",
        "model = Laplace(1)\n",
        "model.fit(train, vocab)\n",
        "print(model.vocab)\n",
        "print(model.counts)"
      ],
      "metadata": {
        "id": "KhVRmTZN615v",
        "colab": {
          "base_uri": "https://localhost:8080/"
        },
        "outputId": "ef617e5d-0cb1-4340-8be7-9b0f6a680723"
      },
      "execution_count": 17,
      "outputs": [
        {
          "output_type": "stream",
          "name": "stdout",
          "text": [
            "<Vocabulary with cutoff=1 unk_label='<UNK>' and 14745 items>\n",
            "<NgramCounter with 3 ngram orders and 1095498 ngrams>\n"
          ]
        }
      ]
    },
    {
      "cell_type": "markdown",
      "source": [
        "Then - whilst still categorised as very unlikely - the model makes a predictions for unseen sequences. "
      ],
      "metadata": {
        "id": "zuDOr8praKZK"
      }
    },
    {
      "cell_type": "code",
      "source": [
        "print(model.score('service', ['great']))\n",
        "print(model.score('service', ['was', 'great']))\n",
        "print(model.score('love', ['there', 'was', 'great']))"
      ],
      "metadata": {
        "colab": {
          "base_uri": "https://localhost:8080/"
        },
        "id": "2k2tzrQFY2Hj",
        "outputId": "d71a7b9a-f73d-4c2e-a3f7-6641a7434c2b"
      },
      "execution_count": 138,
      "outputs": [
        {
          "output_type": "stream",
          "name": "stdout",
          "text": [
            "0.01049097775912715\n",
            "0.00013384193267750787\n",
            "6.78195998643608e-05\n"
          ]
        }
      ]
    },
    {
      "cell_type": "markdown",
      "source": [
        "#### 13. Use Zipf’s law to tune the size of the language corpora that generates the best set of probabilities and also optimises the processing run-time of your learning algorithm."
      ],
      "metadata": {
        "id": "XiOevKk55uzd"
      }
    },
    {
      "cell_type": "markdown",
      "source": [
        "I have already reduced the size of my initial dataset to improve run-time and reduce the computational strain. We can further reduce the size of the language corpora using Zipf's law. \n",
        "\n",
        "According to Zipf's law the frequency of a token or word type is directly proportional to its rank in the corpus (Bird, 2009). There are few words that occur very frequently, whilst the majority appear sparingly - leading to a graph that appears to 'trail off'. Stopwords especially contribute to this, as well as punctuation when considering all tokens. Due to our task being word prediction, I have not removed either of these during text normalisation. \n",
        "\n",
        "I have plotted the rank v frequency for a language corpora of size 50, 500, 1000 and ~14000 (the previously used subset of the corpus). "
      ],
      "metadata": {
        "id": "s11BtHKeachT"
      }
    },
    {
      "cell_type": "code",
      "source": [
        "def make_plot(x, y, xlab, ylab, title, i, j):\n",
        "    ax[i, j].plot(x,y)\n",
        "    ax[i, j].set_xlabel(xlab)\n",
        "    ax[i, j].set_ylabel(ylab)\n",
        "    ax[i, j].set_title(title)\n",
        "\n",
        "# Creates a frequency distribution of the tokens\n",
        "md_fdist = FreqDist(tokens)\n",
        "\n",
        "# Ranks all word types according to their frequency\n",
        "freq = sorted(md_fdist.values(), reverse=True)\n",
        "rank = range(1, len(freq) + 1)\n",
        "\n",
        "# Top 50 Word types\n",
        "top_500 = sorted(freq[:500], reverse=True)\n",
        "rank_500 = range(1, len(top_500) + 1)\n",
        "\n",
        "# Top 500 word types\n",
        "top_1000 = sorted(freq[:1000], reverse=True)\n",
        "rank_1000 = range(1, len(top_1000) + 1)\n",
        "\n",
        "# Top 1000 word types\n",
        "top_5000 = sorted(freq[:5000], reverse=True)\n",
        "rank_5000 = range(1, len(top_5000) + 1)\n",
        "\n",
        "#Plots rank versus frequency graphs\n",
        "fig, ax = plt.subplots(2, 2, figsize=(15, 10))\n",
        "\n",
        "make_plot(rank, freq, \"rank\", \"frequency\", \"All word types in Tridadvisor 2023 Reviews\", 0, 0)\n",
        "make_plot(rank_5000, top_5000, \"rank of top 5000 word types\", \"freq of top 5000 word types\", \"Top 5000 word types in Tripadvisor 2023 Reviews\", 0, 1)\n",
        "make_plot(rank_1000, top_1000, \"rank of top 1000 word types\", \"freq of top 1000 word types\", \"Top 1000 word types in Tripadvisor 2023 Reviews\", 1, 0)\n",
        "make_plot(rank_500, top_500, \"rank of top 500 word types\", \"freq of top 500 word types\", \"Top 500 word types in Tripadvisor 2023 Reviews\", 1, 1)"
      ],
      "metadata": {
        "colab": {
          "base_uri": "https://localhost:8080/",
          "height": 872
        },
        "id": "0WcW9XgLgHXN",
        "outputId": "e6c587d2-c032-4336-cd35-107a2c005260"
      },
      "execution_count": 41,
      "outputs": [
        {
          "output_type": "display_data",
          "data": {
            "text/plain": [
              "<Figure size 1500x1000 with 4 Axes>"
            ],
            "image/png": "[encoded data removed]"
          },
          "metadata": {}
        }
      ]
    },
    {
      "cell_type": "markdown",
      "source": [
        "The full (~14000) corpus appears to be overuncumbered with tokens that are used very sparsely. We can see an improvement when reducing the corpus size significantly to 5000 unique tokens and 1000 unique tokens. When the corpus size is as low as 500 word types the results as less promising, this will not be able to generate optimal probabilites with such a small vocabulary. \n",
        "\n",
        "Hence, I create a new model using a corpus size of 5000. In the following section I will analyse the results of this model. "
      ],
      "metadata": {
        "id": "Tk3IQExfnVdS"
      }
    },
    {
      "cell_type": "code",
      "source": [
        "def delete_words(words):\n",
        "    return [w for w in words if w in common_words_set]"
      ],
      "metadata": {
        "id": "Lqgw9ftiQAwf"
      },
      "execution_count": 67,
      "outputs": []
    },
    {
      "cell_type": "code",
      "source": [
        "# Removes words rank 1000+ from list of tokens\n",
        "common_words = md_fdist.most_common(1000)\n",
        "common_words_set = set(w for w, _ in common_words)\n",
        "small_tokens_df = reviews['review_normal'].map(word_tokenize).map(delete_words)\n",
        "small_tokens_df = small_tokens_df[small_tokens_df.astype(bool)]"
      ],
      "metadata": {
        "id": "lW0YytOXh-Ui"
      },
      "execution_count": 89,
      "outputs": []
    },
    {
      "cell_type": "code",
      "source": [
        "# Creates model based on reduced vocabulary\n",
        "train, vocab = padded_everygram_pipeline(1, small_tokens_df)\n",
        "small_model = Laplace(1)\n",
        "small_model.fit(train, vocab)\n",
        "print(small_model.vocab)\n",
        "print(small_model.counts)"
      ],
      "metadata": {
        "colab": {
          "base_uri": "https://localhost:8080/"
        },
        "id": "5MGIG7EJpiPs",
        "outputId": "7ed176a4-c92e-49aa-e534-1942f07df2a6"
      },
      "execution_count": 90,
      "outputs": [
        {
          "output_type": "stream",
          "name": "stdout",
          "text": [
            "<Vocabulary with cutoff=1 unk_label='<UNK>' and 726 items>\n",
            "<NgramCounter with 1 ngram orders and 7347817 ngrams>\n"
          ]
        }
      ]
    },
    {
      "cell_type": "code",
      "source": [
        "\" \".join(small_model.generate(15))"
      ],
      "metadata": {
        "colab": {
          "base_uri": "https://localhost:8080/",
          "height": 35
        },
        "id": "1iSH1ECvp0IN",
        "outputId": "c6db7134-3283-45f2-b6f9-138761d3e5fd"
      },
      "execution_count": 95,
      "outputs": [
        {
          "output_type": "execute_result",
          "data": {
            "text/plain": [
              "'is through slow in - recently had offer hour an of many and is a'"
            ],
            "application/vnd.google.colaboratory.intrinsic+json": {
              "type": "string"
            }
          },
          "metadata": {},
          "execution_count": 95
        }
      ]
    },
    {
      "cell_type": "markdown",
      "source": [
        "#### 14. Qualify the performance of your experiments using measures of perplexity and the F-score for your classifiers."
      ],
      "metadata": {
        "id": "dKmgHlqs5wI9"
      }
    },
    {
      "cell_type": "markdown",
      "source": [
        "In order to evalaute my classifier, I must test it ngrams generated from unseen data."
      ],
      "metadata": {
        "id": "366IMLMJq0Q5"
      }
    },
    {
      "cell_type": "code",
      "source": [
        "# Assigns the test data\n",
        "test = reviews.tail(2000)\n",
        "test_tokens = test['tokens_normal'].values.tolist()"
      ],
      "metadata": {
        "id": "jrVZRvbolKAX"
      },
      "execution_count": 94,
      "outputs": []
    },
    {
      "cell_type": "markdown",
      "source": [
        "We are able to evaluate our classifiers based on their F-score or perplexity. Perplexity is a measure of how well our language model 'understands' the text. It calculates how well our probability distibution generalises to the specified data. Perplexity can be defined as the inverse probability of the test set, normalised by the number of tokens (Jurafsky and Martin, 2023)."
      ],
      "metadata": {
        "id": "-cXgcQJjrVSj"
      }
    },
    {
      "cell_type": "markdown",
      "source": [
        "The perplexity scores for each model are printed below."
      ],
      "metadata": {
        "id": "V-O2lBVlt_y7"
      }
    },
    {
      "cell_type": "code",
      "source": [
        "# Calculates perplexity for 4-gram model \n",
        "test, vocab = padded_everygram_pipeline(n, test_tokens)\n",
        "print(quad_model.perplexity((list(e) for e in test)))"
      ],
      "metadata": {
        "id": "SWxZp85e63wJ",
        "colab": {
          "base_uri": "https://localhost:8080/"
        },
        "outputId": "064eb10a-2af4-4120-aa68-082e76b0324c"
      },
      "execution_count": 107,
      "outputs": [
        {
          "output_type": "stream",
          "name": "stdout",
          "text": [
            "inf\n"
          ]
        }
      ]
    },
    {
      "cell_type": "code",
      "source": [
        "# Calculates perplexity for 4-gram model with Laplace Smoothing\n",
        "test, vocab = padded_everygram_pipeline(n, test_tokens)\n",
        "print(model.perplexity((list(e) for e in test)))"
      ],
      "metadata": {
        "colab": {
          "base_uri": "https://localhost:8080/"
        },
        "id": "8edndZ2ErF70",
        "outputId": "862b1268-ade5-4863-b293-d41b8d4115fc"
      },
      "execution_count": 106,
      "outputs": [
        {
          "output_type": "stream",
          "name": "stdout",
          "text": [
            "14745.000000004913\n"
          ]
        }
      ]
    },
    {
      "cell_type": "code",
      "source": [
        "# Calculates perplexity for 4-gram model with Laplace Smoothing with smaller corpus\n",
        "test, vocab = padded_everygram_pipeline(n, test_tokens)\n",
        "print(small_model.perplexity((list(e) for e in test)))"
      ],
      "metadata": {
        "colab": {
          "base_uri": "https://localhost:8080/"
        },
        "id": "NEwsNHV-ttJI",
        "outputId": "4612bce0-de8a-42bc-9f01-a6cba1a0da75"
      },
      "execution_count": 108,
      "outputs": [
        {
          "output_type": "stream",
          "name": "stdout",
          "text": [
            "726.0000000002002\n"
          ]
        }
      ]
    },
    {
      "cell_type": "markdown",
      "source": [
        "#### 15. Comment on the results you get from your experiments."
      ],
      "metadata": {
        "id": "xXMClZt35p0Z"
      }
    },
    {
      "cell_type": "markdown",
      "source": [
        "In sum, I have created and evaluated 3 n-gram language models to predict the next sentence - using a Naive Bayes classifier.  The first model calculates the probability of sequences up to 4 tokens long using MLE. The second adds Laplace Add-One smoothing to the model and the final model uses Zipf's Law to reduce the size of the language corpora to optimise the results whilst minimising space and time complexity. \n",
        "\n",
        "As each addition was added to the 4-gram model, the perplexity score decreased.A decreasing perplexity score usually indicates model improvements. The initial perplexity score for the original 4-gram model tended to infinity due to the lack of probability smoothing involved during model training - leading to the model 'zero-ing out' when confronted with unknown words or combinations (Jurasfsky and Martin, 2023). We can see that Laplace scoring significantly lowered the perplexity of the model. More sophisticated smoothing algorithms, such as Backoff and Interpolation can be implemented such as and may show further improvements (Jurasfsky and Martin, 2023). Finally, eliminating less frequent tokens helps reduce the sparsity of the dataset, lowering the perplexity even further and allowing the model to make more accurate next-word predicitions. However, further evaluation metrics beyond perplexity as well as more complex text normalisation techniques are still required to determine the best n-gram language model. "
      ],
      "metadata": {
        "id": "pgy0WaUtKuFR"
      }
    },
    {
      "cell_type": "markdown",
      "source": [
        "## Advanced Methods"
      ],
      "metadata": {
        "id": "L1hi6iSnBNKV"
      }
    },
    {
      "cell_type": "markdown",
      "source": [
        "#### 16.  Alternative data structures and indexing, to assist with searching across possibilities (e.g., trees, subsidiary indexes)\n"
      ],
      "metadata": {
        "id": "6hrhwnHKBTmn"
      }
    },
    {
      "cell_type": "markdown",
      "source": [
        "We can store the n-grams in a tree of depth n, where each node represents a k-gram and each child node represents a continuing (k+1)-gram. \n",
        "Each node also contains the number of occurrences of the k-gram.\n",
        "For example, two represent the three phrases `['hello my name', 'hello I am', 'the black cat']`, we can use this tree.\n",
        "```\n",
        "       (2,hello)        (1,the)\n",
        "       /       \\           |\n",
        "     (1,my)  (1,I)     (1,black)\n",
        "      |         |          |\n",
        "  (1,name)    (1,am)    (1,cat)\n",
        "```\n",
        "Then supposing we want to predict the word following the bigram `hello my`, we can just index into the appropriate node, and see only the relevant trigrams (in this case `hello my name`) and their frequencies and feed this into our model.\n",
        "\n",
        "Whilst in theory, the worst case time complexity is still $O(len(vocab))$, in practice we will drastically cut down on the average time complexity since the n-grams are sparse. "
      ],
      "metadata": {
        "id": "ud0wUrGwwWJN"
      }
    },
    {
      "cell_type": "markdown",
      "source": [
        "#### 20. Analysis of the computational time and space complexity, and presentation of insight into the scaling properties of the NLP algorithms and processing pipelines; Understanding of the consequences of these properties on maximum corpora size"
      ],
      "metadata": {
        "id": "TmkS8Dp6BYY5"
      }
    },
    {
      "cell_type": "markdown",
      "source": [
        "There are two aspects of the overall model, building the model and making predictions, and the time and space complexity can be measured for both respectively. I will focus on my manually coded model in question 10.\n",
        "\n",
        "**Building the model**\n",
        "\n",
        "The time complexity when building the model is linear with respect to the number of tokens. When counting the instances for each word type, the algorithm goes through the entire corpus, performing the same number of computations as there are ngrams to be counted. If we are counting unigrams then time complexity will be $O(n)$, where $n=len(tokens)$. For a sequence of tokens of $n$ length, there will be $n-1$ bigrams, $n-2$ trigrams, $n-3$ 4-grams etc. so for the overall time complexity will be $O(n-k-1)$ where k is the order of n-gram. So the time complexity is constant as $O(n-k-1)$ is of order $O(n)$ regardless of the order of n-gram. \n",
        "\n",
        "Space complexity, however, will increase in order each as the order of n-gram increases. The total number of unique bigrams in the worst case will be $n^2$, for trigrams $n^3$ and so forth. Hence, there will be more unique trigrams than unique bigrams, more unique bigrams than unigrams, meaning that we will have to store more data in memory. Thus, the space complexity is $O(n^k)$ where $k$ is the order of n-grams used. \n",
        "\n",
        "**Making predictions**\n",
        "\n",
        "Making predictions, whilst a seperate process, follows a similar pattern. The time complexity is of linear order with respect to the vocabulary. This is because the algorithm indexes into the appropriate row for the prior token in $O(1)$ time. Then, iterates linearly through the row of the coocurance matrix in $O(n)$ time, where $n=len(vocabulary)$. So, overall time complexity of the predicting algorithm is $O(1*n)$, which is equivalent to $O(n)4.\n",
        "\n",
        "Space complexity grows exponentially depending on the order of output n-gram. The space complexity for $O(n^2)$ predicting bigrams, $O(n^3)$ for predicting trigrams. The output n-gram refers to the total n-gram after making the prediction. For example, if we are predicting the next token after 'he' then this is bigram prediction. Overall, the space complexity is $O(n^k + n^{k+1})$ which can be reduced to $O(n^k)$.\n",
        "\n",
        "**In sum**:\n",
        "\n",
        "Time complexity: $O(2n) = O(n)$ where $n$ is the number of tokens. \n",
        "\n",
        "Space complexity: $O(n^k + n^{k+1}) = O(n^k)$ where $k$ is the order of the output n-gram.\n",
        "\n",
        "The increase in space-complexity was the primary problem during this project, hence the reduction of the dataset to the first 10000 reviews, due to limited RAM - especially when considering higher order n-grams. Overall, the time complexity is relatively acceptable but considering NLP tasks are often conducted on language corpora with a very large amount of unique tokens/word types, reducing algorithmic complexity is essential. Using Zipf's law to replaced underused tokens with <UNK> is one way to optimise efficiency, however, using other classification algorithms, either traditional machine learning algorithms or neural networks can streamline the process significantly. Ideally, calcualtions should be performed in log space to reduce time complexity as well as help avoid underflow."
      ],
      "metadata": {
        "id": "Cni45JjSLNAz"
      }
    },
    {
      "cell_type": "markdown",
      "source": [
        "#### 21. Identification and description of natural language processing functions that are not implemented or supported in the computational model described in this technical report and coding exercise (e.g., semantic analysis, ontologies, more advanced methods for assessing probability mass distribution, more advanced word prediction methods)"
      ],
      "metadata": {
        "id": "KK4c1DatBZa1"
      }
    },
    {
      "cell_type": "markdown",
      "source": [
        "Using Gensim it is possible to use the `Phrases` package to perform phrase detection on the corpus. This will attempt to group words that often co-occur as one token. One such example the phrase, 'state of the art' would be split into multiple tokens in a normal model, dismantling its meaning. With Gensim we can preserve these phrases and transform our sentences accordingly. "
      ],
      "metadata": {
        "id": "YjGQeD5q5vmY"
      }
    },
    {
      "cell_type": "code",
      "source": [
        "# Phrase Detection\n",
        "\n",
        "# Training algorithm on list of sentences\n",
        "phrases = Phrases(tokens_split)\n",
        "# Creating the phraser which will transform the sentences based on predictions\n",
        "bigram = Phraser(phrases)\n",
        "# Transforms sentences based on predicted phrases\n",
        "sentences = list(bigram[tokens_split])\n",
        "print(sentences[0])"
      ],
      "metadata": {
        "colab": {
          "base_uri": "https://localhost:8080/"
        },
        "id": "idHqqVGPtmeg",
        "outputId": "b3e7faa0-4f55-417d-b86a-6c0ed5ccf418"
      },
      "execution_count": 207,
      "outputs": [
        {
          "output_type": "stream",
          "name": "stdout",
          "text": [
            "['totally', 'in', 'love', 'with', 'the', 'auro', 'of', 'the', 'place', ',', 'really', 'beautiful', 'and', 'quite', 'fancy', 'at', 'the', 'same_time', '.', 'the', 'ambience', 'is', 'very', 'pure', 'and', 'gives', 'a', 'sense_of', 'positivity', 'throughout', '.', 'outdoor', 'and', 'indoor', 'interior', 'are', 'quite', 'quaint', 'and', 'cute', '.', 'love', 'the', 'open_kitchen', 'idea', 'and', 'there', 'whole', 'marketplace', 'ideology', '.', 'due_to', 'coronovirus', 'they', 'specifically', 'use', 'disposable', 'cutlery', 'to', 'keep', 'the', 'pandemic', 'in', 'mind', 'taking', 'all', 'the', 'precautionary', 'measures', 'from', 'the', 'beginning', 'of', 'the', 'place', 'with', 'the', 'mask', 'on', 'their', 'staff', 'and', 'using', 'good', 'sanitisation', '.', 'the', 'food', 'is', 'really', 'amazing', 'specially', 'the', 'pizza', 'straight', 'from', 'the', 'oven', 'and', 'the', 'hummus', 'and', 'pita_bread', 'are', 'quite', 'delicious', 'too', '.', 'if_you', \"'re\", 'looking_for', 'a', 'classy', 'yet', 'soothing', 'italian', 'place', 'in_delhi', ',', 'fatjar', 'is', 'a', 'go', 'to', 'for', 'you', '!']\n"
          ]
        }
      ]
    },
    {
      "cell_type": "markdown",
      "source": [
        "We can then use this when we use Gensim to create custom word embeddings. Word2vec creates word embeddings based on whether a token is likely to occur near another token. Based of this data, the model can learn word similarity, by learning which words appear in similar contexts. "
      ],
      "metadata": {
        "id": "rFMtOQz17XdL"
      }
    },
    {
      "cell_type": "code",
      "source": [
        "# Creates skip-gram/Word2Vec model \n",
        "model = Word2Vec(sentences, \n",
        "                 min_count=2,   \n",
        "                 vector_size=500,      \n",
        "                 workers=2,     \n",
        "                 window=5,      \n",
        "                 epochs=30)       "
      ],
      "metadata": {
        "id": "8uhoEYaPsbYk"
      },
      "execution_count": 208,
      "outputs": []
    },
    {
      "cell_type": "markdown",
      "source": [
        "For example, the word 'meal' appeared in similar contexts to 'evenng', 'meals' and others that can be seen below. Think of these words almost like synonyms, such that we could replace the word 'meal' in the sentence 'we had a great meal', and whilst the specific meaning will change, the general context stays the same. "
      ],
      "metadata": {
        "id": "pjnzwiub8LCb"
      }
    },
    {
      "cell_type": "code",
      "source": [
        "# Prints top tokens with highest similarity score to 'meal'\n",
        "model.wv.most_similar(\"meal\") "
      ],
      "metadata": {
        "colab": {
          "base_uri": "https://localhost:8080/"
        },
        "id": "S7hwXZzCs3JJ",
        "outputId": "2bd1755c-3848-4507-b3c1-e326ad7b2669"
      },
      "execution_count": 204,
      "outputs": [
        {
          "output_type": "execute_result",
          "data": {
            "text/plain": [
              "[('evening', 0.6020373702049255),\n",
              " ('meals', 0.5939827561378479),\n",
              " ('dinner', 0.5783793330192566),\n",
              " ('dining_experience', 0.551912784576416),\n",
              " ('trip', 0.5515774488449097),\n",
              " ('lovely_evening', 0.5217169523239136),\n",
              " ('stay', 0.4787341356277466),\n",
              " ('experiences', 0.4755570590496063),\n",
              " ('journey', 0.46971261501312256),\n",
              " ('business_lunch', 0.4691057503223419)]"
            ]
          },
          "metadata": {},
          "execution_count": 204
        }
      ]
    },
    {
      "cell_type": "markdown",
      "source": [
        "We are then able to use the encoded word vectors to imporve our word prediction model. "
      ],
      "metadata": {
        "id": "xg4KA8oJ9dwg"
      }
    },
    {
      "cell_type": "markdown",
      "source": [
        "## Reference List:"
      ],
      "metadata": {
        "id": "aP_uh1Bt_Jtq"
      }
    },
    {
      "cell_type": "markdown",
      "source": [
        "Bird, S. Klein, E. Loper, E. (2009). *Natural Language Processing with Python – Analyzing Text with the Natural Language Toolkit*. O’Reilly. Available online: https://www.nltk.org/book/\n",
        "\n"
      ],
      "metadata": {
        "id": "TQP6RFxt_PZ1"
      }
    },
    {
      "cell_type": "markdown",
      "source": [
        "Jurasfy, D. Martin, J. H. (2023). *Speech and Language Processing, An Introduction to Natural Language Processing, Computational Linguistics, and Speech Recognition*. Stanford University Press. Available online: https://web.stanford.edu/~jurafsky/slp3/ed3book.pdf"
      ],
      "metadata": {
        "id": "KCfQzjCyptcV"
      }
    },
    {
      "cell_type": "markdown",
      "source": [
        "NLTK Project. (2023). 'nltk.lm package' In *Documentation*. Available online: https://www.nltk.org/api/nltk.lm.html "
      ],
      "metadata": {
        "id": "ZD9x2jOWpz7M"
      }
    }
  ]
}